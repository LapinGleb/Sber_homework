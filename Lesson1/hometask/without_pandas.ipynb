{
 "cells": [
  {
   "cell_type": "markdown",
   "metadata": {
    "pycharm": {
     "name": "#%% md\n"
    }
   },
   "source": [
    "[![Open In Colab](https://colab.research.google.com/assets/colab-badge.svg)](https://colab.research.google.com/github/da-python/python-for-data-analytics/blob/main/Lesson1/hometask/without_pandas.ipynb)"
   ]
  },
  {
   "cell_type": "code",
   "execution_count": null,
   "metadata": {
    "pycharm": {
     "name": "#%%\n"
    }
   },
   "outputs": [],
   "source": [
    "# 1. Посмотрите видео Дэвида Бизли про встроенные инструменты Python\n",
    "# 2. Попробуйте используя встроенные инструменты Python проанализировать таблицу из файла \"Vacancy.csv\"\n",
    "# 3. Попробуйте ответить на вопросы:\n",
    "# Сколько вакансий, которые вам нравятся?\n",
    "# За какие периоды эти вакансии?\n",
    "# Сколько вакансий с такими позициями, на которых вы работаете?\n",
    "# Сколько вакансий для аналитика данных?\n",
    "# Сколько вакансий для аналитика данных с использованием Python?\n",
    "\n",
    "# В задании важно не использовать pandas и numpy, а встроенные инструменты python\n",
    "# Counter, CSV, defaultdict, sorted"
   ]
  },
  {
   "cell_type": "code",
   "execution_count": 67,
   "metadata": {
    "pycharm": {
     "name": "#%%\n"
    }
   },
   "outputs": [],
   "source": [
    "import csv\n",
    "import sys\n",
    "from pathlib import Path\n",
    "from collections import Counter, defaultdict"
   ]
  },
  {
   "cell_type": "code",
   "execution_count": 69,
   "metadata": {
    "pycharm": {
     "name": "#%%\n"
    }
   },
   "outputs": [],
   "source": [
    "dir_path = pathlib.Path.cwd()\n",
    "file_path = Path(dir_path, 'vacancy.csv', 'vacancy.csv')\n",
    "vacs = list(csv.DictReader(open(file_path, encoding='utf-8')))"
   ]
  },
  {
   "cell_type": "code",
   "execution_count": 70,
   "metadata": {
    "pycharm": {
     "name": "#%%\n"
    },
    "scrolled": true
   },
   "outputs": [
    {
     "name": "stdout",
     "output_type": "stream",
     "text": [
      "6 вакансий, которые мне нравятся.\n"
     ]
    }
   ],
   "source": [
    "# Сколько вакансий, которые вам нравятся?\n",
    "\n",
    "vacs_i_liked = []\n",
    "for i in vacs:\n",
    "    if 'python разработчик' in i.get('vactitle').lower():\n",
    "        vacs_i_liked.append(i)\n",
    "print(f'{len(vacs_i_liked)} вакансий, которые мне нравятся.')"
   ]
  },
  {
   "cell_type": "code",
   "execution_count": 71,
   "metadata": {},
   "outputs": [
    {
     "name": "stdout",
     "output_type": "stream",
     "text": [
      "Вакансии, которые мне понравились за период с 2021-01-11 по 2021-03-15.\n"
     ]
    }
   ],
   "source": [
    "# За какие периоды эти вакансии?\n",
    "\n",
    "vac_dates = []\n",
    "for i in vacs_i_liked:\n",
    "    vacdate = i.get('vacdate')\n",
    "    vac_dates.append(vacdate)\n",
    "vac_dates.sort()\n",
    "print(f'Вакансии, которые мне понравились за период с {vac_dates[0]} по {vac_dates[-1]}.')"
   ]
  },
  {
   "cell_type": "code",
   "execution_count": 74,
   "metadata": {},
   "outputs": [
    {
     "name": "stdout",
     "output_type": "stream",
     "text": [
      "21 вакансия, похожая на мою.\n"
     ]
    }
   ],
   "source": [
    "# Сколько вакансий с такими позициями, на которых вы работаете? + Сколько вакансий для аналитика данных?\n",
    "\n",
    "i_work_vac = []\n",
    "for i in vacs:\n",
    "    if 'аналитик данных' in i.get('vactitle').lower():\n",
    "        i_work_vac.append(i)\n",
    "print(f'{len(i_work_vac)} вакансия, похожая на мою.')"
   ]
  },
  {
   "cell_type": "code",
   "execution_count": 73,
   "metadata": {},
   "outputs": [
    {
     "name": "stdout",
     "output_type": "stream",
     "text": [
      "8 вакансий для аналитика данных, с использованием Python.\n"
     ]
    }
   ],
   "source": [
    "# Сколько вакансий для аналитика данных с использованием Python?\n",
    "\n",
    "i_work_vac = []\n",
    "for i in vacs:\n",
    "    if 'аналитик данных' in i.get('vactitle').lower() and 'python' in i.get('vacdescription').lower():\n",
    "        i_work_vac.append(i)\n",
    "print(f'{len(i_work_vac)} вакансий для аналитика данных, с использованием Python.')"
   ]
  },
  {
   "cell_type": "code",
   "execution_count": null,
   "metadata": {},
   "outputs": [],
   "source": []
  }
 ],
 "metadata": {
  "kernelspec": {
   "display_name": "Python 3",
   "language": "python",
   "name": "python3"
  },
  "language_info": {
   "codemirror_mode": {
    "name": "ipython",
    "version": 3
   },
   "file_extension": ".py",
   "mimetype": "text/x-python",
   "name": "python",
   "nbconvert_exporter": "python",
   "pygments_lexer": "ipython3",
   "version": "3.8.8"
  }
 },
 "nbformat": 4,
 "nbformat_minor": 4
}
