{
 "cells": [
  {
   "cell_type": "code",
   "execution_count": 1,
   "metadata": {
    "pycharm": {
     "name": "#%%\n"
    }
   },
   "outputs": [
    {
     "ename": "FileNotFoundError",
     "evalue": "[Errno 2] No such file or directory: 'vacancy.csv.zip'",
     "output_type": "error",
     "traceback": [
      "\u001B[0;31m---------------------------------------------------------------------------\u001B[0m",
      "\u001B[0;31mFileNotFoundError\u001B[0m                         Traceback (most recent call last)",
      "Input \u001B[0;32mIn [1]\u001B[0m, in \u001B[0;36m<cell line: 2>\u001B[0;34m()\u001B[0m\n\u001B[1;32m      1\u001B[0m \u001B[38;5;28;01mimport\u001B[39;00m \u001B[38;5;21;01mpandas\u001B[39;00m \u001B[38;5;28;01mas\u001B[39;00m \u001B[38;5;21;01mpd\u001B[39;00m\n\u001B[0;32m----> 2\u001B[0m vacancy \u001B[38;5;241m=\u001B[39m \u001B[43mpd\u001B[49m\u001B[38;5;241;43m.\u001B[39;49m\u001B[43mread_csv\u001B[49m\u001B[43m(\u001B[49m\u001B[38;5;124;43m'\u001B[39;49m\u001B[38;5;124;43mvacancy.csv.zip\u001B[39;49m\u001B[38;5;124;43m'\u001B[39;49m\u001B[43m)\u001B[49m\n",
      "File \u001B[0;32m~/Projects/reboot/rebootDA2022_2/da_python/venv/lib/python3.9/site-packages/pandas/util/_decorators.py:311\u001B[0m, in \u001B[0;36mdeprecate_nonkeyword_arguments.<locals>.decorate.<locals>.wrapper\u001B[0;34m(*args, **kwargs)\u001B[0m\n\u001B[1;32m    305\u001B[0m \u001B[38;5;28;01mif\u001B[39;00m \u001B[38;5;28mlen\u001B[39m(args) \u001B[38;5;241m>\u001B[39m num_allow_args:\n\u001B[1;32m    306\u001B[0m     warnings\u001B[38;5;241m.\u001B[39mwarn(\n\u001B[1;32m    307\u001B[0m         msg\u001B[38;5;241m.\u001B[39mformat(arguments\u001B[38;5;241m=\u001B[39marguments),\n\u001B[1;32m    308\u001B[0m         \u001B[38;5;167;01mFutureWarning\u001B[39;00m,\n\u001B[1;32m    309\u001B[0m         stacklevel\u001B[38;5;241m=\u001B[39mstacklevel,\n\u001B[1;32m    310\u001B[0m     )\n\u001B[0;32m--> 311\u001B[0m \u001B[38;5;28;01mreturn\u001B[39;00m \u001B[43mfunc\u001B[49m\u001B[43m(\u001B[49m\u001B[38;5;241;43m*\u001B[39;49m\u001B[43margs\u001B[49m\u001B[43m,\u001B[49m\u001B[43m \u001B[49m\u001B[38;5;241;43m*\u001B[39;49m\u001B[38;5;241;43m*\u001B[39;49m\u001B[43mkwargs\u001B[49m\u001B[43m)\u001B[49m\n",
      "File \u001B[0;32m~/Projects/reboot/rebootDA2022_2/da_python/venv/lib/python3.9/site-packages/pandas/io/parsers/readers.py:680\u001B[0m, in \u001B[0;36mread_csv\u001B[0;34m(filepath_or_buffer, sep, delimiter, header, names, index_col, usecols, squeeze, prefix, mangle_dupe_cols, dtype, engine, converters, true_values, false_values, skipinitialspace, skiprows, skipfooter, nrows, na_values, keep_default_na, na_filter, verbose, skip_blank_lines, parse_dates, infer_datetime_format, keep_date_col, date_parser, dayfirst, cache_dates, iterator, chunksize, compression, thousands, decimal, lineterminator, quotechar, quoting, doublequote, escapechar, comment, encoding, encoding_errors, dialect, error_bad_lines, warn_bad_lines, on_bad_lines, delim_whitespace, low_memory, memory_map, float_precision, storage_options)\u001B[0m\n\u001B[1;32m    665\u001B[0m kwds_defaults \u001B[38;5;241m=\u001B[39m _refine_defaults_read(\n\u001B[1;32m    666\u001B[0m     dialect,\n\u001B[1;32m    667\u001B[0m     delimiter,\n\u001B[0;32m   (...)\u001B[0m\n\u001B[1;32m    676\u001B[0m     defaults\u001B[38;5;241m=\u001B[39m{\u001B[38;5;124m\"\u001B[39m\u001B[38;5;124mdelimiter\u001B[39m\u001B[38;5;124m\"\u001B[39m: \u001B[38;5;124m\"\u001B[39m\u001B[38;5;124m,\u001B[39m\u001B[38;5;124m\"\u001B[39m},\n\u001B[1;32m    677\u001B[0m )\n\u001B[1;32m    678\u001B[0m kwds\u001B[38;5;241m.\u001B[39mupdate(kwds_defaults)\n\u001B[0;32m--> 680\u001B[0m \u001B[38;5;28;01mreturn\u001B[39;00m \u001B[43m_read\u001B[49m\u001B[43m(\u001B[49m\u001B[43mfilepath_or_buffer\u001B[49m\u001B[43m,\u001B[49m\u001B[43m \u001B[49m\u001B[43mkwds\u001B[49m\u001B[43m)\u001B[49m\n",
      "File \u001B[0;32m~/Projects/reboot/rebootDA2022_2/da_python/venv/lib/python3.9/site-packages/pandas/io/parsers/readers.py:575\u001B[0m, in \u001B[0;36m_read\u001B[0;34m(filepath_or_buffer, kwds)\u001B[0m\n\u001B[1;32m    572\u001B[0m _validate_names(kwds\u001B[38;5;241m.\u001B[39mget(\u001B[38;5;124m\"\u001B[39m\u001B[38;5;124mnames\u001B[39m\u001B[38;5;124m\"\u001B[39m, \u001B[38;5;28;01mNone\u001B[39;00m))\n\u001B[1;32m    574\u001B[0m \u001B[38;5;66;03m# Create the parser.\u001B[39;00m\n\u001B[0;32m--> 575\u001B[0m parser \u001B[38;5;241m=\u001B[39m \u001B[43mTextFileReader\u001B[49m\u001B[43m(\u001B[49m\u001B[43mfilepath_or_buffer\u001B[49m\u001B[43m,\u001B[49m\u001B[43m \u001B[49m\u001B[38;5;241;43m*\u001B[39;49m\u001B[38;5;241;43m*\u001B[39;49m\u001B[43mkwds\u001B[49m\u001B[43m)\u001B[49m\n\u001B[1;32m    577\u001B[0m \u001B[38;5;28;01mif\u001B[39;00m chunksize \u001B[38;5;129;01mor\u001B[39;00m iterator:\n\u001B[1;32m    578\u001B[0m     \u001B[38;5;28;01mreturn\u001B[39;00m parser\n",
      "File \u001B[0;32m~/Projects/reboot/rebootDA2022_2/da_python/venv/lib/python3.9/site-packages/pandas/io/parsers/readers.py:934\u001B[0m, in \u001B[0;36mTextFileReader.__init__\u001B[0;34m(self, f, engine, **kwds)\u001B[0m\n\u001B[1;32m    931\u001B[0m     \u001B[38;5;28mself\u001B[39m\u001B[38;5;241m.\u001B[39moptions[\u001B[38;5;124m\"\u001B[39m\u001B[38;5;124mhas_index_names\u001B[39m\u001B[38;5;124m\"\u001B[39m] \u001B[38;5;241m=\u001B[39m kwds[\u001B[38;5;124m\"\u001B[39m\u001B[38;5;124mhas_index_names\u001B[39m\u001B[38;5;124m\"\u001B[39m]\n\u001B[1;32m    933\u001B[0m \u001B[38;5;28mself\u001B[39m\u001B[38;5;241m.\u001B[39mhandles: IOHandles \u001B[38;5;241m|\u001B[39m \u001B[38;5;28;01mNone\u001B[39;00m \u001B[38;5;241m=\u001B[39m \u001B[38;5;28;01mNone\u001B[39;00m\n\u001B[0;32m--> 934\u001B[0m \u001B[38;5;28mself\u001B[39m\u001B[38;5;241m.\u001B[39m_engine \u001B[38;5;241m=\u001B[39m \u001B[38;5;28;43mself\u001B[39;49m\u001B[38;5;241;43m.\u001B[39;49m\u001B[43m_make_engine\u001B[49m\u001B[43m(\u001B[49m\u001B[43mf\u001B[49m\u001B[43m,\u001B[49m\u001B[43m \u001B[49m\u001B[38;5;28;43mself\u001B[39;49m\u001B[38;5;241;43m.\u001B[39;49m\u001B[43mengine\u001B[49m\u001B[43m)\u001B[49m\n",
      "File \u001B[0;32m~/Projects/reboot/rebootDA2022_2/da_python/venv/lib/python3.9/site-packages/pandas/io/parsers/readers.py:1218\u001B[0m, in \u001B[0;36mTextFileReader._make_engine\u001B[0;34m(self, f, engine)\u001B[0m\n\u001B[1;32m   1214\u001B[0m     mode \u001B[38;5;241m=\u001B[39m \u001B[38;5;124m\"\u001B[39m\u001B[38;5;124mrb\u001B[39m\u001B[38;5;124m\"\u001B[39m\n\u001B[1;32m   1215\u001B[0m \u001B[38;5;66;03m# error: No overload variant of \"get_handle\" matches argument types\u001B[39;00m\n\u001B[1;32m   1216\u001B[0m \u001B[38;5;66;03m# \"Union[str, PathLike[str], ReadCsvBuffer[bytes], ReadCsvBuffer[str]]\"\u001B[39;00m\n\u001B[1;32m   1217\u001B[0m \u001B[38;5;66;03m# , \"str\", \"bool\", \"Any\", \"Any\", \"Any\", \"Any\", \"Any\"\u001B[39;00m\n\u001B[0;32m-> 1218\u001B[0m \u001B[38;5;28mself\u001B[39m\u001B[38;5;241m.\u001B[39mhandles \u001B[38;5;241m=\u001B[39m \u001B[43mget_handle\u001B[49m\u001B[43m(\u001B[49m\u001B[43m  \u001B[49m\u001B[38;5;66;43;03m# type: ignore[call-overload]\u001B[39;49;00m\n\u001B[1;32m   1219\u001B[0m \u001B[43m    \u001B[49m\u001B[43mf\u001B[49m\u001B[43m,\u001B[49m\n\u001B[1;32m   1220\u001B[0m \u001B[43m    \u001B[49m\u001B[43mmode\u001B[49m\u001B[43m,\u001B[49m\n\u001B[1;32m   1221\u001B[0m \u001B[43m    \u001B[49m\u001B[43mencoding\u001B[49m\u001B[38;5;241;43m=\u001B[39;49m\u001B[38;5;28;43mself\u001B[39;49m\u001B[38;5;241;43m.\u001B[39;49m\u001B[43moptions\u001B[49m\u001B[38;5;241;43m.\u001B[39;49m\u001B[43mget\u001B[49m\u001B[43m(\u001B[49m\u001B[38;5;124;43m\"\u001B[39;49m\u001B[38;5;124;43mencoding\u001B[39;49m\u001B[38;5;124;43m\"\u001B[39;49m\u001B[43m,\u001B[49m\u001B[43m \u001B[49m\u001B[38;5;28;43;01mNone\u001B[39;49;00m\u001B[43m)\u001B[49m\u001B[43m,\u001B[49m\n\u001B[1;32m   1222\u001B[0m \u001B[43m    \u001B[49m\u001B[43mcompression\u001B[49m\u001B[38;5;241;43m=\u001B[39;49m\u001B[38;5;28;43mself\u001B[39;49m\u001B[38;5;241;43m.\u001B[39;49m\u001B[43moptions\u001B[49m\u001B[38;5;241;43m.\u001B[39;49m\u001B[43mget\u001B[49m\u001B[43m(\u001B[49m\u001B[38;5;124;43m\"\u001B[39;49m\u001B[38;5;124;43mcompression\u001B[39;49m\u001B[38;5;124;43m\"\u001B[39;49m\u001B[43m,\u001B[49m\u001B[43m \u001B[49m\u001B[38;5;28;43;01mNone\u001B[39;49;00m\u001B[43m)\u001B[49m\u001B[43m,\u001B[49m\n\u001B[1;32m   1223\u001B[0m \u001B[43m    \u001B[49m\u001B[43mmemory_map\u001B[49m\u001B[38;5;241;43m=\u001B[39;49m\u001B[38;5;28;43mself\u001B[39;49m\u001B[38;5;241;43m.\u001B[39;49m\u001B[43moptions\u001B[49m\u001B[38;5;241;43m.\u001B[39;49m\u001B[43mget\u001B[49m\u001B[43m(\u001B[49m\u001B[38;5;124;43m\"\u001B[39;49m\u001B[38;5;124;43mmemory_map\u001B[39;49m\u001B[38;5;124;43m\"\u001B[39;49m\u001B[43m,\u001B[49m\u001B[43m \u001B[49m\u001B[38;5;28;43;01mFalse\u001B[39;49;00m\u001B[43m)\u001B[49m\u001B[43m,\u001B[49m\n\u001B[1;32m   1224\u001B[0m \u001B[43m    \u001B[49m\u001B[43mis_text\u001B[49m\u001B[38;5;241;43m=\u001B[39;49m\u001B[43mis_text\u001B[49m\u001B[43m,\u001B[49m\n\u001B[1;32m   1225\u001B[0m \u001B[43m    \u001B[49m\u001B[43merrors\u001B[49m\u001B[38;5;241;43m=\u001B[39;49m\u001B[38;5;28;43mself\u001B[39;49m\u001B[38;5;241;43m.\u001B[39;49m\u001B[43moptions\u001B[49m\u001B[38;5;241;43m.\u001B[39;49m\u001B[43mget\u001B[49m\u001B[43m(\u001B[49m\u001B[38;5;124;43m\"\u001B[39;49m\u001B[38;5;124;43mencoding_errors\u001B[39;49m\u001B[38;5;124;43m\"\u001B[39;49m\u001B[43m,\u001B[49m\u001B[43m \u001B[49m\u001B[38;5;124;43m\"\u001B[39;49m\u001B[38;5;124;43mstrict\u001B[39;49m\u001B[38;5;124;43m\"\u001B[39;49m\u001B[43m)\u001B[49m\u001B[43m,\u001B[49m\n\u001B[1;32m   1226\u001B[0m \u001B[43m    \u001B[49m\u001B[43mstorage_options\u001B[49m\u001B[38;5;241;43m=\u001B[39;49m\u001B[38;5;28;43mself\u001B[39;49m\u001B[38;5;241;43m.\u001B[39;49m\u001B[43moptions\u001B[49m\u001B[38;5;241;43m.\u001B[39;49m\u001B[43mget\u001B[49m\u001B[43m(\u001B[49m\u001B[38;5;124;43m\"\u001B[39;49m\u001B[38;5;124;43mstorage_options\u001B[39;49m\u001B[38;5;124;43m\"\u001B[39;49m\u001B[43m,\u001B[49m\u001B[43m \u001B[49m\u001B[38;5;28;43;01mNone\u001B[39;49;00m\u001B[43m)\u001B[49m\u001B[43m,\u001B[49m\n\u001B[1;32m   1227\u001B[0m \u001B[43m\u001B[49m\u001B[43m)\u001B[49m\n\u001B[1;32m   1228\u001B[0m \u001B[38;5;28;01massert\u001B[39;00m \u001B[38;5;28mself\u001B[39m\u001B[38;5;241m.\u001B[39mhandles \u001B[38;5;129;01mis\u001B[39;00m \u001B[38;5;129;01mnot\u001B[39;00m \u001B[38;5;28;01mNone\u001B[39;00m\n\u001B[1;32m   1229\u001B[0m f \u001B[38;5;241m=\u001B[39m \u001B[38;5;28mself\u001B[39m\u001B[38;5;241m.\u001B[39mhandles\u001B[38;5;241m.\u001B[39mhandle\n",
      "File \u001B[0;32m~/Projects/reboot/rebootDA2022_2/da_python/venv/lib/python3.9/site-packages/pandas/io/common.py:740\u001B[0m, in \u001B[0;36mget_handle\u001B[0;34m(path_or_buf, mode, encoding, compression, memory_map, is_text, errors, storage_options)\u001B[0m\n\u001B[1;32m    735\u001B[0m \u001B[38;5;66;03m# ZIP Compression\u001B[39;00m\n\u001B[1;32m    736\u001B[0m \u001B[38;5;28;01melif\u001B[39;00m compression \u001B[38;5;241m==\u001B[39m \u001B[38;5;124m\"\u001B[39m\u001B[38;5;124mzip\u001B[39m\u001B[38;5;124m\"\u001B[39m:\n\u001B[1;32m    737\u001B[0m     \u001B[38;5;66;03m# error: Argument 1 to \"_BytesZipFile\" has incompatible type \"Union[str,\u001B[39;00m\n\u001B[1;32m    738\u001B[0m     \u001B[38;5;66;03m# BaseBuffer]\"; expected \"Union[Union[str, PathLike[str]],\u001B[39;00m\n\u001B[1;32m    739\u001B[0m     \u001B[38;5;66;03m# ReadBuffer[bytes], WriteBuffer[bytes]]\"\u001B[39;00m\n\u001B[0;32m--> 740\u001B[0m     handle \u001B[38;5;241m=\u001B[39m \u001B[43m_BytesZipFile\u001B[49m\u001B[43m(\u001B[49m\n\u001B[1;32m    741\u001B[0m \u001B[43m        \u001B[49m\u001B[43mhandle\u001B[49m\u001B[43m,\u001B[49m\u001B[43m \u001B[49m\u001B[43mioargs\u001B[49m\u001B[38;5;241;43m.\u001B[39;49m\u001B[43mmode\u001B[49m\u001B[43m,\u001B[49m\u001B[43m \u001B[49m\u001B[38;5;241;43m*\u001B[39;49m\u001B[38;5;241;43m*\u001B[39;49m\u001B[43mcompression_args\u001B[49m\u001B[43m  \u001B[49m\u001B[38;5;66;43;03m# type: ignore[arg-type]\u001B[39;49;00m\n\u001B[1;32m    742\u001B[0m \u001B[43m    \u001B[49m\u001B[43m)\u001B[49m\n\u001B[1;32m    743\u001B[0m     \u001B[38;5;28;01mif\u001B[39;00m handle\u001B[38;5;241m.\u001B[39mmode \u001B[38;5;241m==\u001B[39m \u001B[38;5;124m\"\u001B[39m\u001B[38;5;124mr\u001B[39m\u001B[38;5;124m\"\u001B[39m:\n\u001B[1;32m    744\u001B[0m         handles\u001B[38;5;241m.\u001B[39mappend(handle)\n",
      "File \u001B[0;32m~/Projects/reboot/rebootDA2022_2/da_python/venv/lib/python3.9/site-packages/pandas/io/common.py:887\u001B[0m, in \u001B[0;36m_BytesZipFile.__init__\u001B[0;34m(self, file, mode, archive_name, **kwargs)\u001B[0m\n\u001B[1;32m    881\u001B[0m kwargs_zip\u001B[38;5;241m.\u001B[39mupdate(kwargs)\n\u001B[1;32m    883\u001B[0m \u001B[38;5;66;03m# error: Argument 1 to \"__init__\" of \"ZipFile\" has incompatible type\u001B[39;00m\n\u001B[1;32m    884\u001B[0m \u001B[38;5;66;03m# \"Union[_PathLike[str], Union[str, Union[IO[Any], RawIOBase, BufferedIOBase,\u001B[39;00m\n\u001B[1;32m    885\u001B[0m \u001B[38;5;66;03m# TextIOBase, TextIOWrapper, mmap]]]\"; expected \"Union[Union[str,\u001B[39;00m\n\u001B[1;32m    886\u001B[0m \u001B[38;5;66;03m# _PathLike[str]], IO[bytes]]\"\u001B[39;00m\n\u001B[0;32m--> 887\u001B[0m \u001B[38;5;28;43msuper\u001B[39;49m\u001B[43m(\u001B[49m\u001B[43m)\u001B[49m\u001B[38;5;241;43m.\u001B[39;49m\u001B[38;5;21;43m__init__\u001B[39;49m\u001B[43m(\u001B[49m\u001B[43mfile\u001B[49m\u001B[43m,\u001B[49m\u001B[43m \u001B[49m\u001B[43mmode\u001B[49m\u001B[43m,\u001B[49m\u001B[43m \u001B[49m\u001B[38;5;241;43m*\u001B[39;49m\u001B[38;5;241;43m*\u001B[39;49m\u001B[43mkwargs_zip\u001B[49m\u001B[43m)\u001B[49m\n",
      "File \u001B[0;32m/Library/Frameworks/Python.framework/Versions/3.9/lib/python3.9/zipfile.py:1239\u001B[0m, in \u001B[0;36mZipFile.__init__\u001B[0;34m(self, file, mode, compression, allowZip64, compresslevel, strict_timestamps)\u001B[0m\n\u001B[1;32m   1237\u001B[0m \u001B[38;5;28;01mwhile\u001B[39;00m \u001B[38;5;28;01mTrue\u001B[39;00m:\n\u001B[1;32m   1238\u001B[0m     \u001B[38;5;28;01mtry\u001B[39;00m:\n\u001B[0;32m-> 1239\u001B[0m         \u001B[38;5;28mself\u001B[39m\u001B[38;5;241m.\u001B[39mfp \u001B[38;5;241m=\u001B[39m \u001B[43mio\u001B[49m\u001B[38;5;241;43m.\u001B[39;49m\u001B[43mopen\u001B[49m\u001B[43m(\u001B[49m\u001B[43mfile\u001B[49m\u001B[43m,\u001B[49m\u001B[43m \u001B[49m\u001B[43mfilemode\u001B[49m\u001B[43m)\u001B[49m\n\u001B[1;32m   1240\u001B[0m     \u001B[38;5;28;01mexcept\u001B[39;00m \u001B[38;5;167;01mOSError\u001B[39;00m:\n\u001B[1;32m   1241\u001B[0m         \u001B[38;5;28;01mif\u001B[39;00m filemode \u001B[38;5;129;01min\u001B[39;00m modeDict:\n",
      "\u001B[0;31mFileNotFoundError\u001B[0m: [Errno 2] No such file or directory: 'vacancy.csv.zip'"
     ]
    }
   ],
   "source": [
    "import pandas as pd\n",
    "vacancy = pd.read_csv('vacancy.csv.zip')"
   ]
  },
  {
   "cell_type": "code",
   "execution_count": 37,
   "metadata": {
    "pycharm": {
     "name": "#%%\n"
    }
   },
   "outputs": [],
   "source": [
    "%matplotlib inline\n",
    "import matplotlib.pyplot as plt"
   ]
  },
  {
   "cell_type": "code",
   "execution_count": 6,
   "metadata": {
    "pycharm": {
     "name": "#%%\n"
    }
   },
   "outputs": [
    {
     "data": {
      "text/html": [
       "<div>\n",
       "<style scoped>\n",
       "    .dataframe tbody tr th:only-of-type {\n",
       "        vertical-align: middle;\n",
       "    }\n",
       "\n",
       "    .dataframe tbody tr th {\n",
       "        vertical-align: top;\n",
       "    }\n",
       "\n",
       "    .dataframe thead th {\n",
       "        text-align: right;\n",
       "    }\n",
       "</style>\n",
       "<table border=\"1\" class=\"dataframe\">\n",
       "  <thead>\n",
       "    <tr style=\"text-align: right;\">\n",
       "      <th></th>\n",
       "      <th>id</th>\n",
       "      <th>created_at</th>\n",
       "      <th>updated_at</th>\n",
       "      <th>vacid</th>\n",
       "      <th>vactitle</th>\n",
       "      <th>vacdescription</th>\n",
       "      <th>vacdate</th>\n",
       "      <th>vacstatus</th>\n",
       "      <th>vaclink</th>\n",
       "      <th>vachtml</th>\n",
       "    </tr>\n",
       "  </thead>\n",
       "  <tbody>\n",
       "    <tr>\n",
       "      <th>0</th>\n",
       "      <td>383479</td>\n",
       "      <td>2021-03-14 09:39:21.854462</td>\n",
       "      <td>2021-03-14 09:39:21.854584</td>\n",
       "      <td>1474941</td>\n",
       "      <td>Senior java-разработчик (в команду Онбординга)</td>\n",
       "      <td>Работа у нас — это:команда профессионалов, го...</td>\n",
       "      <td>2021-03-15</td>\n",
       "      <td>new</td>\n",
       "      <td>https://my.sbertalents.ru/#/job-requisition/14...</td>\n",
       "      <td>{\"title\": \"Senior java-\\u0440\\u0430\\u0437\\u044...</td>\n",
       "    </tr>\n",
       "    <tr>\n",
       "      <th>1</th>\n",
       "      <td>383480</td>\n",
       "      <td>2021-03-14 09:39:21.854462</td>\n",
       "      <td>2021-03-14 09:39:21.854584</td>\n",
       "      <td>1476154</td>\n",
       "      <td>Дизайнер мобильных приложений</td>\n",
       "      <td>Мы ищем  дизайнера в нашу дружную команду Сбер...</td>\n",
       "      <td>2021-03-15</td>\n",
       "      <td>new</td>\n",
       "      <td>https://my.sbertalents.ru/#/job-requisition/14...</td>\n",
       "      <td>{\"title\": \"\\u0414\\u0438\\u0437\\u0430\\u0439\\u043...</td>\n",
       "    </tr>\n",
       "    <tr>\n",
       "      <th>2</th>\n",
       "      <td>383481</td>\n",
       "      <td>2021-03-14 09:39:21.854462</td>\n",
       "      <td>2021-03-14 09:39:21.854584</td>\n",
       "      <td>1479834</td>\n",
       "      <td>Старший специалист отдела мониторинга залогово...</td>\n",
       "      <td>Условия: ● официальное трудоустройство;● 5-т...</td>\n",
       "      <td>2021-03-15</td>\n",
       "      <td>new</td>\n",
       "      <td>https://my.sbertalents.ru/#/job-requisition/14...</td>\n",
       "      <td>{\"title\": \"\\u0421\\u0442\\u0430\\u0440\\u0448\\u043...</td>\n",
       "    </tr>\n",
       "  </tbody>\n",
       "</table>\n",
       "</div>"
      ],
      "text/plain": [
       "       id                  created_at                  updated_at    vacid  \\\n",
       "0  383479  2021-03-14 09:39:21.854462  2021-03-14 09:39:21.854584  1474941   \n",
       "1  383480  2021-03-14 09:39:21.854462  2021-03-14 09:39:21.854584  1476154   \n",
       "2  383481  2021-03-14 09:39:21.854462  2021-03-14 09:39:21.854584  1479834   \n",
       "\n",
       "                                            vactitle  \\\n",
       "0     Senior java-разработчик (в команду Онбординга)   \n",
       "1                      Дизайнер мобильных приложений   \n",
       "2  Старший специалист отдела мониторинга залогово...   \n",
       "\n",
       "                                      vacdescription     vacdate vacstatus  \\\n",
       "0   Работа у нас — это:команда профессионалов, го...  2021-03-15       new   \n",
       "1  Мы ищем  дизайнера в нашу дружную команду Сбер...  2021-03-15       new   \n",
       "2    Условия: ● официальное трудоустройство;● 5-т...  2021-03-15       new   \n",
       "\n",
       "                                             vaclink  \\\n",
       "0  https://my.sbertalents.ru/#/job-requisition/14...   \n",
       "1  https://my.sbertalents.ru/#/job-requisition/14...   \n",
       "2  https://my.sbertalents.ru/#/job-requisition/14...   \n",
       "\n",
       "                                             vachtml  \n",
       "0  {\"title\": \"Senior java-\\u0440\\u0430\\u0437\\u044...  \n",
       "1  {\"title\": \"\\u0414\\u0438\\u0437\\u0430\\u0439\\u043...  \n",
       "2  {\"title\": \"\\u0421\\u0442\\u0430\\u0440\\u0448\\u043...  "
      ]
     },
     "execution_count": 6,
     "metadata": {},
     "output_type": "execute_result"
    }
   ],
   "source": [
    "# Посмотреть первые строчки\n",
    "vacancy.head(3)"
   ]
  },
  {
   "cell_type": "code",
   "execution_count": 7,
   "metadata": {
    "pycharm": {
     "name": "#%%\n"
    }
   },
   "outputs": [],
   "source": [
    "# убрать лишнее\n",
    "vacancy = vacancy.drop(['vachtml','created_at','updated_at'], axis=1)"
   ]
  },
  {
   "cell_type": "code",
   "execution_count": 8,
   "metadata": {
    "pycharm": {
     "name": "#%%\n"
    }
   },
   "outputs": [
    {
     "data": {
      "text/plain": [
       "vacdate\n",
       "2020-10-15      3\n",
       "2020-10-16      2\n",
       "2020-10-19      2\n",
       "2020-10-20      2\n",
       "2020-10-21      1\n",
       "             ... \n",
       "2021-03-13      7\n",
       "2021-03-14     10\n",
       "2021-03-15    188\n",
       "2021-03-16    214\n",
       "2021-03-17    186\n",
       "Name: vacid, Length: 115, dtype: int64"
      ]
     },
     "execution_count": 8,
     "metadata": {},
     "output_type": "execute_result"
    }
   ],
   "source": [
    "# посчитать по датам количество вакансий\n",
    "vacancy.groupby('vacdate')['vacid'].count()"
   ]
  },
  {
   "cell_type": "code",
   "execution_count": 11,
   "metadata": {
    "pycharm": {
     "name": "#%%\n"
    }
   },
   "outputs": [],
   "source": [
    "# перевести даты в формат datetime\n",
    "vacancy.vacdate = pd.to_datetime(vacancy.vacdate)"
   ]
  },
  {
   "cell_type": "code",
   "execution_count": 9,
   "metadata": {
    "pycharm": {
     "name": "#%%\n"
    }
   },
   "outputs": [
    {
     "data": {
      "text/plain": [
       "dtype('O')"
      ]
     },
     "execution_count": 9,
     "metadata": {},
     "output_type": "execute_result"
    }
   ],
   "source": []
  },
  {
   "cell_type": "code",
   "execution_count": 13,
   "metadata": {
    "pycharm": {
     "name": "#%%\n"
    }
   },
   "outputs": [],
   "source": [
    "# перевести даты в индекс и построить график\n",
    "vacancy = vacancy.set_index('vacdate')"
   ]
  },
  {
   "cell_type": "code",
   "execution_count": 26,
   "metadata": {
    "pycharm": {
     "name": "#%%\n"
    }
   },
   "outputs": [],
   "source": [
    "# найти профессии с самым большим количеством вакансий и построить по ним график\n",
    "vacs = vacancy.groupby('vactitle')['vacid'].count().reset_index()\n"
   ]
  },
  {
   "cell_type": "code",
   "execution_count": 36,
   "metadata": {
    "pycharm": {
     "name": "#%%\n"
    }
   },
   "outputs": [],
   "source": [
    "# vacancy.groupby('vactitle')['vacid'].count().sort_values()"
   ]
  },
  {
   "cell_type": "code",
   "execution_count": 20,
   "metadata": {
    "pycharm": {
     "name": "#%%\n"
    }
   },
   "outputs": [],
   "source": [
    "# vacs = vacs.sort_values(by='vacid',ascending=False)"
   ]
  },
  {
   "cell_type": "code",
   "execution_count": 50,
   "metadata": {
    "pycharm": {
     "name": "#%%\n"
    }
   },
   "outputs": [
    {
     "data": {
      "image/png": "[encoded data removed]",
      "text/plain": [
       "<Figure size 432x288 with 1 Axes>"
      ]
     },
     "metadata": {
      "needs_background": "light"
     },
     "output_type": "display_data"
    }
   ],
   "source": [
    "vacs.nlargest(5, 'vacid').set_index('vactitle').plot(kind='barh');"
   ]
  },
  {
   "cell_type": "code",
   "execution_count": 80,
   "metadata": {
    "pycharm": {
     "name": "#%%\n"
    }
   },
   "outputs": [],
   "source": [
    "# Найти вакансии аналитика\n",
    "\n",
    "s = 'аналитик'.lower()\n",
    "python_s = 'python'"
   ]
  },
  {
   "cell_type": "code",
   "execution_count": 84,
   "metadata": {
    "pycharm": {
     "name": "#%%\n"
    }
   },
   "outputs": [
    {
     "data": {
      "text/plain": [
       "(57, 6)"
      ]
     },
     "execution_count": 84,
     "metadata": {},
     "output_type": "execute_result"
    }
   ],
   "source": [
    "t1 = vacancy.vactitle.str.lower().str.contains(s)\n",
    "t2 = vacancy.vacdescription.str.lower().str.contains(python_s)\n",
    "vacancy[t1 & t2].shape"
   ]
  },
  {
   "cell_type": "code",
   "execution_count": 3,
   "metadata": {
    "pycharm": {
     "name": "#%%\n"
    }
   },
   "outputs": [],
   "source": [
    "# посчитать количество вакансий аналитика"
   ]
  },
  {
   "cell_type": "code",
   "execution_count": 5,
   "metadata": {
    "pycharm": {
     "name": "#%%\n"
    }
   },
   "outputs": [],
   "source": [
    "# найти вакансии аналитика который использует python"
   ]
  },
  {
   "cell_type": "code",
   "execution_count": 91,
   "metadata": {
    "pycharm": {
     "name": "#%%\n"
    }
   },
   "outputs": [
    {
     "data": {
      "text/html": [
       "<div>\n",
       "<style scoped>\n",
       "    .dataframe tbody tr th:only-of-type {\n",
       "        vertical-align: middle;\n",
       "    }\n",
       "\n",
       "    .dataframe tbody tr th {\n",
       "        vertical-align: top;\n",
       "    }\n",
       "\n",
       "    .dataframe thead th {\n",
       "        text-align: right;\n",
       "    }\n",
       "</style>\n",
       "<table border=\"1\" class=\"dataframe\">\n",
       "  <thead>\n",
       "    <tr style=\"text-align: right;\">\n",
       "      <th></th>\n",
       "      <th>vacdate</th>\n",
       "      <th>id</th>\n",
       "      <th>vacid</th>\n",
       "      <th>vactitle</th>\n",
       "      <th>vacdescription</th>\n",
       "      <th>vacstatus</th>\n",
       "      <th>vaclink</th>\n",
       "    </tr>\n",
       "  </thead>\n",
       "  <tbody>\n",
       "    <tr>\n",
       "      <th>56</th>\n",
       "      <td>2021-03-16</td>\n",
       "      <td>383395</td>\n",
       "      <td>1519655</td>\n",
       "      <td>Старший аналитик по созданию системы принятия ...</td>\n",
       "      <td>Дивизион разрабатывает Интеллектуальную систем...</td>\n",
       "      <td>new</td>\n",
       "      <td>https://my.sbertalents.ru/#/job-requisition/15...</td>\n",
       "    </tr>\n",
       "    <tr>\n",
       "      <th>54</th>\n",
       "      <td>2021-03-16</td>\n",
       "      <td>383282</td>\n",
       "      <td>1498731</td>\n",
       "      <td>Ведущий аналитик-исследователь</td>\n",
       "      <td>Условия:Конкурентоспособный уровень дохода (ок...</td>\n",
       "      <td>new</td>\n",
       "      <td>https://my.sbertalents.ru/#/job-requisition/14...</td>\n",
       "    </tr>\n",
       "    <tr>\n",
       "      <th>53</th>\n",
       "      <td>2021-03-16</td>\n",
       "      <td>383222</td>\n",
       "      <td>1571234</td>\n",
       "      <td>Системный аналитик (ММБ)</td>\n",
       "      <td>Условия:Хорошо мотивирующий оклад + система пр...</td>\n",
       "      <td>new</td>\n",
       "      <td>https://my.sbertalents.ru/#/job-requisition/15...</td>\n",
       "    </tr>\n",
       "    <tr>\n",
       "      <th>1</th>\n",
       "      <td>2021-03-15</td>\n",
       "      <td>383600</td>\n",
       "      <td>1564167</td>\n",
       "      <td>Аналитик SQL (кампании продаж)</td>\n",
       "      <td>Условия:- работа в крупнейшем банке России;- т...</td>\n",
       "      <td>new</td>\n",
       "      <td>https://my.sbertalents.ru/#/job-requisition/15...</td>\n",
       "    </tr>\n",
       "    <tr>\n",
       "      <th>55</th>\n",
       "      <td>2021-03-15</td>\n",
       "      <td>383377</td>\n",
       "      <td>1435644</td>\n",
       "      <td>Системный аналитик</td>\n",
       "      <td>Сбер — больше чем банк, это вселенная полезных...</td>\n",
       "      <td>new</td>\n",
       "      <td>https://my.sbertalents.ru/#/job-requisition/14...</td>\n",
       "    </tr>\n",
       "  </tbody>\n",
       "</table>\n",
       "</div>"
      ],
      "text/plain": [
       "      vacdate      id    vacid  \\\n",
       "56 2021-03-16  383395  1519655   \n",
       "54 2021-03-16  383282  1498731   \n",
       "53 2021-03-16  383222  1571234   \n",
       "1  2021-03-15  383600  1564167   \n",
       "55 2021-03-15  383377  1435644   \n",
       "\n",
       "                                             vactitle  \\\n",
       "56  Старший аналитик по созданию системы принятия ...   \n",
       "54                     Ведущий аналитик-исследователь   \n",
       "53                           Системный аналитик (ММБ)   \n",
       "1                      Аналитик SQL (кампании продаж)   \n",
       "55                                 Системный аналитик   \n",
       "\n",
       "                                       vacdescription vacstatus  \\\n",
       "56  Дивизион разрабатывает Интеллектуальную систем...       new   \n",
       "54  Условия:Конкурентоспособный уровень дохода (ок...       new   \n",
       "53  Условия:Хорошо мотивирующий оклад + система пр...       new   \n",
       "1   Условия:- работа в крупнейшем банке России;- т...       new   \n",
       "55  Сбер — больше чем банк, это вселенная полезных...       new   \n",
       "\n",
       "                                              vaclink  \n",
       "56  https://my.sbertalents.ru/#/job-requisition/15...  \n",
       "54  https://my.sbertalents.ru/#/job-requisition/14...  \n",
       "53  https://my.sbertalents.ru/#/job-requisition/15...  \n",
       "1   https://my.sbertalents.ru/#/job-requisition/15...  \n",
       "55  https://my.sbertalents.ru/#/job-requisition/14...  "
      ]
     },
     "execution_count": 91,
     "metadata": {},
     "output_type": "execute_result"
    }
   ],
   "source": [
    "# отфильтровать вакансии по дате\n",
    "vacancy[t1 | t2].reset_index().sort_values(by='vacdate', ascending=False).head()"
   ]
  },
  {
   "cell_type": "code",
   "execution_count": null,
   "metadata": {
    "pycharm": {
     "name": "#%%\n"
    }
   },
   "outputs": [],
   "source": [
    "vacanc"
   ]
  }
 ],
 "metadata": {
  "kernelspec": {
   "display_name": "Python 3",
   "language": "python",
   "name": "python3"
  },
  "language_info": {
   "codemirror_mode": {
    "name": "ipython",
    "version": 3
   },
   "file_extension": ".py",
   "mimetype": "text/x-python",
   "name": "python",
   "nbconvert_exporter": "python",
   "pygments_lexer": "ipython3",
   "version": "3.8.5"
  }
 },
 "nbformat": 4,
 "nbformat_minor": 4
}