{
 "cells": [
  {
   "cell_type": "markdown",
   "metadata": {
    "pycharm": {
     "name": "#%% md\n"
    }
   },
   "source": [
    "[![Open In Colab](https://colab.research.google.com/assets/colab-badge.svg)](https://colab.research.google.com/github/da-python/python-for-data-analytics/blob/main/Lesson3/hometask/hometask_SyntheticRubber.ipynb)"
   ]
  },
  {
   "cell_type": "code",
   "execution_count": 2,
   "metadata": {
    "pycharm": {
     "name": "#%%\n"
    },
    "scrolled": true
   },
   "outputs": [
    {
     "name": "stdout",
     "output_type": "stream",
     "text": [
      "Collecting yfinance\n",
      "  Downloading yfinance-0.1.74-py2.py3-none-any.whl (27 kB)\n",
      "Requirement already satisfied: requests in c:\\users\\lapin\\anaconda3\\lib\\site-packages (2.25.1)\n",
      "Requirement already satisfied: idna<3,>=2.5 in c:\\users\\lapin\\anaconda3\\lib\\site-packages (from requests) (2.10)\n",
      "Requirement already satisfied: certifi>=2017.4.17 in c:\\users\\lapin\\anaconda3\\lib\\site-packages (from requests) (2020.12.5)\n",
      "Requirement already satisfied: chardet<5,>=3.0.2 in c:\\users\\lapin\\anaconda3\\lib\\site-packages (from requests) (4.0.0)\n",
      "Requirement already satisfied: urllib3<1.27,>=1.21.1 in c:\\users\\lapin\\anaconda3\\lib\\site-packages (from requests) (1.26.4)\n",
      "Requirement already satisfied: lxml>=4.5.1 in c:\\users\\lapin\\anaconda3\\lib\\site-packages (from yfinance) (4.6.3)\n",
      "Collecting multitasking>=0.0.7\n",
      "  Downloading multitasking-0.0.11-py3-none-any.whl (8.5 kB)\n",
      "Requirement already satisfied: pandas>=0.24.0 in c:\\users\\lapin\\anaconda3\\lib\\site-packages (from yfinance) (1.2.4)\n",
      "Requirement already satisfied: numpy>=1.15 in c:\\users\\lapin\\anaconda3\\lib\\site-packages (from yfinance) (1.20.1)\n",
      "Collecting requests\n",
      "  Using cached requests-2.28.1-py3-none-any.whl (62 kB)\n",
      "Collecting charset-normalizer<3,>=2\n",
      "  Using cached charset_normalizer-2.1.0-py3-none-any.whl (39 kB)\n",
      "Requirement already satisfied: pytz>=2017.3 in c:\\users\\lapin\\anaconda3\\lib\\site-packages (from pandas>=0.24.0->yfinance) (2021.1)\n",
      "Requirement already satisfied: python-dateutil>=2.7.3 in c:\\users\\lapin\\anaconda3\\lib\\site-packages (from pandas>=0.24.0->yfinance) (2.8.1)\n",
      "Requirement already satisfied: six>=1.5 in c:\\users\\lapin\\anaconda3\\lib\\site-packages (from python-dateutil>=2.7.3->pandas>=0.24.0->yfinance) (1.15.0)\n",
      "Installing collected packages: charset-normalizer, requests, multitasking, yfinance\n",
      "  Attempting uninstall: requests\n",
      "    Found existing installation: requests 2.25.1\n",
      "    Uninstalling requests-2.25.1:\n",
      "      Successfully uninstalled requests-2.25.1\n",
      "Successfully installed charset-normalizer-2.1.0 multitasking-0.0.11 requests-2.28.1 yfinance-0.1.74\n"
     ]
    },
    {
     "name": "stderr",
     "output_type": "stream",
     "text": [
      "ERROR: pip's dependency resolver does not currently take into account all the packages that are installed. This behaviour is the source of the following dependency conflicts.\n",
      "conda-repo-cli 1.0.4 requires pathlib, which is not installed.\n",
      "anaconda-project 0.9.1 requires ruamel-yaml, which is not installed.\n"
     ]
    }
   ],
   "source": [
    "##### При работе в Colab\n",
    "!pip install yfinance requests"
   ]
  },
  {
   "cell_type": "code",
   "execution_count": 3,
   "metadata": {},
   "outputs": [
    {
     "name": "stdout",
     "output_type": "stream",
     "text": [
      "Collecting pathlib\n",
      "  Downloading pathlib-1.0.1-py3-none-any.whl (14 kB)\n",
      "Collecting ruamel-yaml\n",
      "  Downloading ruamel.yaml-0.17.21-py3-none-any.whl (109 kB)\n",
      "Collecting ruamel.yaml.clib>=0.2.6\n",
      "  Downloading ruamel.yaml.clib-0.2.6-cp38-cp38-win_amd64.whl (117 kB)\n",
      "Installing collected packages: ruamel.yaml.clib, ruamel-yaml, pathlib\n",
      "Successfully installed pathlib-1.0.1 ruamel-yaml ruamel.yaml.clib-0.2.6\n"
     ]
    }
   ],
   "source": [
    "!pip install pathlib ruamel-yaml"
   ]
  },
  {
   "cell_type": "code",
   "execution_count": 1,
   "metadata": {
    "pycharm": {
     "name": "#%%\n"
    }
   },
   "outputs": [],
   "source": [
    "import requests\n",
    "import yfinance as yf\n",
    "import pandas as pd\n",
    "import matplotlib.pyplot as plt\n",
    "import seaborn; seaborn.set()\n",
    "from tqdm.auto import tqdm"
   ]
  },
  {
   "cell_type": "code",
   "execution_count": 3,
   "metadata": {
    "pycharm": {
     "name": "#%%\n"
    }
   },
   "outputs": [],
   "source": [
    "# Для работы с API может потребоваться обходное решение для работы с SSL сертификатом\n",
    "# import ssl\n",
    "# ssl._create_default_https_context = ssl._create_unverified_context"
   ]
  },
  {
   "cell_type": "markdown",
   "metadata": {
    "pycharm": {
     "name": "#%% md\n"
    }
   },
   "source": [
    "# Задание 1.\n",
    "\n",
    "* Вы - менеджер по продажам в нефтехимической компании.\n",
    "* Вы ведете несколько ключевых клиентов, которые закупают продукты вашей компании.\n",
    "* Ваши клиенты предпочитают формульный подход к ценообразованию и вам нужно предложить клиентам формулу цены на синтетический каучук, который может быть альтернативой натуральному каучуку с грейдом SMR 20.\n",
    "* В зависимости от объемов, которые покупают клиенты, им может быть предложена скидка.\n"
   ]
  },
  {
   "cell_type": "markdown",
   "metadata": {
    "pycharm": {
     "name": "#%% md\n"
    }
   },
   "source": [
    "### Что нужно сделать?\n",
    "\n",
    "1. Проанализировать имеющиеся данные.\n",
    "2. Определить базовую формулу цены на условиях FCA (цена на заводе). То есть как бы выглядела цена на исторических данных.\n",
    "3. Отобразить на графике.\n",
    "4. Сделать расчет возможной цены по формуле для каждого из клиентов на условиях DDP (цена с доставкой). Записать все в один эксель файл, на разных листах. Каждый лист - название клиента.\n",
    "5. Предложить формулу цены каждому из клиентов на условиях DDP (цена с доставкой).\n",
    "- Создать директорию «для клиентов» и в ней сложить файлы с расчетами.\n",
    "- Каждый клиент - отдельный файл (любой из docx, xlsx, pptx, pdf)  с именем клиента…"
   ]
  },
  {
   "cell_type": "code",
   "execution_count": 3,
   "metadata": {
    "pycharm": {
     "name": "#%%\n"
    }
   },
   "outputs": [],
   "source": [
    "# Из данных есть:\n",
    "# Затраты на производство\n",
    "PRODUCTION_COST = 400 # (EUR)\n",
    "\n",
    "# Расходы на логистику\n",
    "EU_LOGISTIC_COST_EUR = 30 # в Европу в евро\n",
    "CN_LOGISTIC_COST_USD = 130 # в Китай в долларах\n",
    "\n",
    "\n",
    "# * Справочная информация по клиентам(объемы, локации, комментарии)\n",
    "# location - локация клиента\n",
    "# volumes - закупаемые объемы\n",
    "# formula - предпочитаемая формула расчета цены - скользящая средняя или среднее значение за месяц\n",
    "\n",
    "customers = {\n",
    "    'Monty':{\n",
    "        'location':'EU',\n",
    "        'volumes':200,\n",
    "        'formula':'moving_average'\n",
    "    },\n",
    "\n",
    "    'Triangle':{\n",
    "        'location':'CN',\n",
    "        'volumes': 30,\n",
    "        'formula': 'monthly'\n",
    "    },\n",
    "    'Stone':{\n",
    "        'location':'EU',\n",
    "        'volumes': 150,\n",
    "        'formula': 'moving_average'\n",
    "    },\n",
    "    'Poly':{\n",
    "        'location':'EU',\n",
    "        'volumes': 70,\n",
    "        'formula': 'monthly'\n",
    "    }\n",
    "}\n",
    "# Скидки\n",
    "discounts = {'up to 100': 0.01, # 1%\n",
    "             'up to 300': 0.05, # 5%\n",
    "             '300 plus': 0.1}   #10%\n"
   ]
  },
  {
   "cell_type": "code",
   "execution_count": 6,
   "metadata": {
    "pycharm": {
     "name": "#%%\n"
    }
   },
   "outputs": [
    {
     "data": {
      "text/html": [
       "<div>\n",
       "<style scoped>\n",
       "    .dataframe tbody tr th:only-of-type {\n",
       "        vertical-align: middle;\n",
       "    }\n",
       "\n",
       "    .dataframe tbody tr th {\n",
       "        vertical-align: top;\n",
       "    }\n",
       "\n",
       "    .dataframe thead th {\n",
       "        text-align: right;\n",
       "    }\n",
       "</style>\n",
       "<table border=\"1\" class=\"dataframe\">\n",
       "  <thead>\n",
       "    <tr style=\"text-align: right;\">\n",
       "      <th></th>\n",
       "      <th>date</th>\n",
       "      <th>grade</th>\n",
       "      <th>masa</th>\n",
       "      <th>rm</th>\n",
       "      <th>us</th>\n",
       "      <th>tone</th>\n",
       "    </tr>\n",
       "  </thead>\n",
       "  <tbody>\n",
       "    <tr>\n",
       "      <th>0</th>\n",
       "      <td>2022-05-31</td>\n",
       "      <td>SMR CV</td>\n",
       "      <td>Noon</td>\n",
       "      <td>1157.50</td>\n",
       "      <td>269.20</td>\n",
       "      <td>Slightly steadier</td>\n",
       "    </tr>\n",
       "    <tr>\n",
       "      <th>1</th>\n",
       "      <td>2022-05-31</td>\n",
       "      <td>SMR L</td>\n",
       "      <td>Noon</td>\n",
       "      <td>1147.50</td>\n",
       "      <td>266.90</td>\n",
       "      <td>Slightly steadier</td>\n",
       "    </tr>\n",
       "    <tr>\n",
       "      <th>2</th>\n",
       "      <td>2022-05-31</td>\n",
       "      <td>SMR 5</td>\n",
       "      <td>Noon</td>\n",
       "      <td>740.00</td>\n",
       "      <td>172.10</td>\n",
       "      <td>Slightly steadier</td>\n",
       "    </tr>\n",
       "    <tr>\n",
       "      <th>3</th>\n",
       "      <td>2022-05-31</td>\n",
       "      <td>SMR GP</td>\n",
       "      <td>Noon</td>\n",
       "      <td>737.00</td>\n",
       "      <td>171.40</td>\n",
       "      <td>Slightly steadier</td>\n",
       "    </tr>\n",
       "    <tr>\n",
       "      <th>4</th>\n",
       "      <td>2022-05-31</td>\n",
       "      <td>SMR 10</td>\n",
       "      <td>Noon</td>\n",
       "      <td>730.00</td>\n",
       "      <td>169.80</td>\n",
       "      <td>Slightly steadier</td>\n",
       "    </tr>\n",
       "  </tbody>\n",
       "</table>\n",
       "</div>"
      ],
      "text/plain": [
       "         date   grade  masa       rm      us               tone\n",
       "0  2022-05-31  SMR CV  Noon  1157.50  269.20  Slightly steadier\n",
       "1  2022-05-31   SMR L  Noon  1147.50  266.90  Slightly steadier\n",
       "2  2022-05-31   SMR 5  Noon   740.00  172.10  Slightly steadier\n",
       "3  2022-05-31  SMR GP  Noon   737.00  171.40  Slightly steadier\n",
       "4  2022-05-31  SMR 10  Noon   730.00  169.80  Slightly steadier"
      ]
     },
     "execution_count": 6,
     "metadata": {},
     "output_type": "execute_result"
    }
   ],
   "source": [
    "# Котировки натурального каучука доступны на сайте,  https://www.lgm.gov.my\n",
    "# также у них есть API, пример запроса ниже\n",
    "#\n",
    "year = '2022'\n",
    "month = '05'\n",
    "url = f\"https://www.lgm.gov.my/webv2api/api/rubberprice/month={month}&year={year}\"\n",
    "res = requests.get(url)\n",
    "rj = res.json()\n",
    "df = pd.json_normalize(rj)\n",
    "df.head()"
   ]
  },
  {
   "cell_type": "code",
   "execution_count": 4,
   "metadata": {
    "scrolled": false
   },
   "outputs": [
    {
     "data": {
      "application/vnd.jupyter.widget-view+json": {
       "model_id": "f73177ab550d45b0b659dc5785677dc0",
       "version_major": 2,
       "version_minor": 0
      },
      "text/plain": [
       "  0%|          | 0/12 [00:00<?, ?it/s]"
      ]
     },
     "metadata": {},
     "output_type": "display_data"
    },
    {
     "data": {
      "text/html": [
       "<div>\n",
       "<style scoped>\n",
       "    .dataframe tbody tr th:only-of-type {\n",
       "        vertical-align: middle;\n",
       "    }\n",
       "\n",
       "    .dataframe tbody tr th {\n",
       "        vertical-align: top;\n",
       "    }\n",
       "\n",
       "    .dataframe thead th {\n",
       "        text-align: right;\n",
       "    }\n",
       "</style>\n",
       "<table border=\"1\" class=\"dataframe\">\n",
       "  <thead>\n",
       "    <tr style=\"text-align: right;\">\n",
       "      <th></th>\n",
       "      <th>date</th>\n",
       "      <th>grade</th>\n",
       "      <th>masa</th>\n",
       "      <th>rm</th>\n",
       "      <th>us</th>\n",
       "      <th>tone</th>\n",
       "    </tr>\n",
       "  </thead>\n",
       "  <tbody>\n",
       "    <tr>\n",
       "      <th>0</th>\n",
       "      <td>2021-01-29</td>\n",
       "      <td>SMR CV</td>\n",
       "      <td>Noon</td>\n",
       "      <td>906.50</td>\n",
       "      <td>227.75</td>\n",
       "      <td>Quietly Steady</td>\n",
       "    </tr>\n",
       "    <tr>\n",
       "      <th>1</th>\n",
       "      <td>2021-01-29</td>\n",
       "      <td>SMR L</td>\n",
       "      <td>Noon</td>\n",
       "      <td>896.50</td>\n",
       "      <td>225.25</td>\n",
       "      <td>Quietly Steady</td>\n",
       "    </tr>\n",
       "    <tr>\n",
       "      <th>2</th>\n",
       "      <td>2021-01-29</td>\n",
       "      <td>SMR 5</td>\n",
       "      <td>Noon</td>\n",
       "      <td>641.50</td>\n",
       "      <td>161.20</td>\n",
       "      <td>Quietly Steady</td>\n",
       "    </tr>\n",
       "    <tr>\n",
       "      <th>3</th>\n",
       "      <td>2021-01-29</td>\n",
       "      <td>SMR GP</td>\n",
       "      <td>Noon</td>\n",
       "      <td>638.50</td>\n",
       "      <td>160.45</td>\n",
       "      <td>Quietly Steady</td>\n",
       "    </tr>\n",
       "    <tr>\n",
       "      <th>4</th>\n",
       "      <td>2021-01-29</td>\n",
       "      <td>SMR 10</td>\n",
       "      <td>Noon</td>\n",
       "      <td>631.50</td>\n",
       "      <td>158.65</td>\n",
       "      <td>Quietly Steady</td>\n",
       "    </tr>\n",
       "    <tr>\n",
       "      <th>...</th>\n",
       "      <td>...</td>\n",
       "      <td>...</td>\n",
       "      <td>...</td>\n",
       "      <td>...</td>\n",
       "      <td>...</td>\n",
       "      <td>...</td>\n",
       "    </tr>\n",
       "    <tr>\n",
       "      <th>142</th>\n",
       "      <td>2021-12-01</td>\n",
       "      <td>SMR 5</td>\n",
       "      <td>Noon</td>\n",
       "      <td>749.50</td>\n",
       "      <td>181.30</td>\n",
       "      <td>Steady</td>\n",
       "    </tr>\n",
       "    <tr>\n",
       "      <th>143</th>\n",
       "      <td>2021-12-01</td>\n",
       "      <td>SMR GP</td>\n",
       "      <td>Noon</td>\n",
       "      <td>746.50</td>\n",
       "      <td>180.60</td>\n",
       "      <td>Steady</td>\n",
       "    </tr>\n",
       "    <tr>\n",
       "      <th>144</th>\n",
       "      <td>2021-12-01</td>\n",
       "      <td>SMR 10</td>\n",
       "      <td>Noon</td>\n",
       "      <td>739.50</td>\n",
       "      <td>178.90</td>\n",
       "      <td>Steady</td>\n",
       "    </tr>\n",
       "    <tr>\n",
       "      <th>145</th>\n",
       "      <td>2021-12-01</td>\n",
       "      <td>SMR 20</td>\n",
       "      <td>Noon</td>\n",
       "      <td>737.50</td>\n",
       "      <td>178.40</td>\n",
       "      <td>Steady</td>\n",
       "    </tr>\n",
       "    <tr>\n",
       "      <th>146</th>\n",
       "      <td>2021-12-01</td>\n",
       "      <td>Latex in Bulk</td>\n",
       "      <td>Noon</td>\n",
       "      <td>586.50</td>\n",
       "      <td>586.50</td>\n",
       "      <td>Steady</td>\n",
       "    </tr>\n",
       "  </tbody>\n",
       "</table>\n",
       "<p>1687 rows × 6 columns</p>\n",
       "</div>"
      ],
      "text/plain": [
       "           date          grade  masa      rm      us            tone\n",
       "0    2021-01-29         SMR CV  Noon  906.50  227.75  Quietly Steady\n",
       "1    2021-01-29          SMR L  Noon  896.50  225.25  Quietly Steady\n",
       "2    2021-01-29          SMR 5  Noon  641.50  161.20  Quietly Steady\n",
       "3    2021-01-29         SMR GP  Noon  638.50  160.45  Quietly Steady\n",
       "4    2021-01-29         SMR 10  Noon  631.50  158.65  Quietly Steady\n",
       "..          ...            ...   ...     ...     ...             ...\n",
       "142  2021-12-01          SMR 5  Noon  749.50  181.30          Steady\n",
       "143  2021-12-01         SMR GP  Noon  746.50  180.60          Steady\n",
       "144  2021-12-01         SMR 10  Noon  739.50  178.90          Steady\n",
       "145  2021-12-01         SMR 20  Noon  737.50  178.40          Steady\n",
       "146  2021-12-01  Latex in Bulk  Noon  586.50  586.50          Steady\n",
       "\n",
       "[1687 rows x 6 columns]"
      ]
     },
     "execution_count": 4,
     "metadata": {},
     "output_type": "execute_result"
    }
   ],
   "source": [
    "# собираем данные по ценам на каучук за год\n",
    "months = ['0' + str(i) if i < 10 else str(i) for i in range(1, 13)]\n",
    "year = 2021\n",
    "df_rubber = pd.DataFrame()\n",
    "for month in tqdm(months):\n",
    "    url = f\"https://www.lgm.gov.my/webv2api/api/rubberprice/month={month}&year={year}\"\n",
    "    res = requests.get(url)\n",
    "    rj = res.json()\n",
    "    temp_df = pd.json_normalize(rj)\n",
    "    df_rubber = df_rubber.append(temp_df)\n",
    "df_rubber"
   ]
  },
  {
   "cell_type": "code",
   "execution_count": 5,
   "metadata": {},
   "outputs": [],
   "source": [
    "df_r = df_rubber.copy()"
   ]
  },
  {
   "cell_type": "code",
   "execution_count": 6,
   "metadata": {},
   "outputs": [
    {
     "data": {
      "application/vnd.jupyter.widget-view+json": {
       "model_id": "303bb48c0cd14cb38bdfa60bddf0ba8c",
       "version_major": 2,
       "version_minor": 0
      },
      "text/plain": [
       "  0%|          | 0/1 [00:00<?, ?it/s]"
      ]
     },
     "metadata": {},
     "output_type": "display_data"
    },
    {
     "name": "stdout",
     "output_type": "stream",
     "text": [
      "[*********************100%***********************]  1 of 1 completed\n"
     ]
    },
    {
     "data": {
      "text/plain": [
       "{'EURUSD=X': Date\n",
       " 2003-12-31    1.231372\n",
       " 2004-01-31    1.260813\n",
       " 2004-02-29    1.264357\n",
       " 2004-03-31    1.226723\n",
       " 2004-04-30    1.199692\n",
       "                 ...   \n",
       " 2022-04-30    1.082745\n",
       " 2022-05-31    1.057322\n",
       " 2022-06-30    1.057670\n",
       " 2022-07-31    1.019509\n",
       " 2022-08-31    1.020615\n",
       " Freq: M, Name: Close, Length: 225, dtype: float64}"
      ]
     },
     "execution_count": 6,
     "metadata": {},
     "output_type": "execute_result"
    }
   ],
   "source": [
    "df_dict = {}\n",
    "for ticker in tqdm(['EURUSD=X']):\n",
    "    df = yf.download(ticker)\n",
    "    df = df.Close.copy()\n",
    "    df = df.resample('M').mean()\n",
    "    df_dict[ticker] = df\n",
    "df_dict"
   ]
  },
  {
   "cell_type": "code",
   "execution_count": 7,
   "metadata": {
    "scrolled": true
   },
   "outputs": [
    {
     "data": {
      "text/html": [
       "<div>\n",
       "<style scoped>\n",
       "    .dataframe tbody tr th:only-of-type {\n",
       "        vertical-align: middle;\n",
       "    }\n",
       "\n",
       "    .dataframe tbody tr th {\n",
       "        vertical-align: top;\n",
       "    }\n",
       "\n",
       "    .dataframe thead th {\n",
       "        text-align: right;\n",
       "    }\n",
       "</style>\n",
       "<table border=\"1\" class=\"dataframe\">\n",
       "  <thead>\n",
       "    <tr style=\"text-align: right;\">\n",
       "      <th></th>\n",
       "      <th>Date</th>\n",
       "      <th>EURUSD</th>\n",
       "    </tr>\n",
       "  </thead>\n",
       "  <tbody>\n",
       "    <tr>\n",
       "      <th>0</th>\n",
       "      <td>2021-01</td>\n",
       "      <td>1.217785</td>\n",
       "    </tr>\n",
       "    <tr>\n",
       "      <th>1</th>\n",
       "      <td>2021-02</td>\n",
       "      <td>1.209898</td>\n",
       "    </tr>\n",
       "    <tr>\n",
       "      <th>2</th>\n",
       "      <td>2021-03</td>\n",
       "      <td>1.191474</td>\n",
       "    </tr>\n",
       "    <tr>\n",
       "      <th>3</th>\n",
       "      <td>2021-04</td>\n",
       "      <td>1.195960</td>\n",
       "    </tr>\n",
       "    <tr>\n",
       "      <th>4</th>\n",
       "      <td>2021-05</td>\n",
       "      <td>1.214025</td>\n",
       "    </tr>\n",
       "    <tr>\n",
       "      <th>5</th>\n",
       "      <td>2021-06</td>\n",
       "      <td>1.205959</td>\n",
       "    </tr>\n",
       "    <tr>\n",
       "      <th>6</th>\n",
       "      <td>2021-07</td>\n",
       "      <td>1.182493</td>\n",
       "    </tr>\n",
       "    <tr>\n",
       "      <th>7</th>\n",
       "      <td>2021-08</td>\n",
       "      <td>1.177090</td>\n",
       "    </tr>\n",
       "    <tr>\n",
       "      <th>8</th>\n",
       "      <td>2021-09</td>\n",
       "      <td>1.177784</td>\n",
       "    </tr>\n",
       "    <tr>\n",
       "      <th>9</th>\n",
       "      <td>2021-10</td>\n",
       "      <td>1.160063</td>\n",
       "    </tr>\n",
       "    <tr>\n",
       "      <th>10</th>\n",
       "      <td>2021-11</td>\n",
       "      <td>1.141729</td>\n",
       "    </tr>\n",
       "    <tr>\n",
       "      <th>11</th>\n",
       "      <td>2021-12</td>\n",
       "      <td>1.130719</td>\n",
       "    </tr>\n",
       "  </tbody>\n",
       "</table>\n",
       "</div>"
      ],
      "text/plain": [
       "       Date    EURUSD\n",
       "0   2021-01  1.217785\n",
       "1   2021-02  1.209898\n",
       "2   2021-03  1.191474\n",
       "3   2021-04  1.195960\n",
       "4   2021-05  1.214025\n",
       "5   2021-06  1.205959\n",
       "6   2021-07  1.182493\n",
       "7   2021-08  1.177090\n",
       "8   2021-09  1.177784\n",
       "9   2021-10  1.160063\n",
       "10  2021-11  1.141729\n",
       "11  2021-12  1.130719"
      ]
     },
     "execution_count": 7,
     "metadata": {},
     "output_type": "execute_result"
    }
   ],
   "source": [
    "exchange_rate_df = pd.concat(df_dict.values(), axis=1)\n",
    "exchange_rate_df.columns = ['EURUSD']\n",
    "exchange_rate_df = exchange_rate_df.loc['2021-01-01':'2021-12-31'].copy()\n",
    "exchange_rate_df = exchange_rate_df.reset_index()\n",
    "exchange_rate_df['Date'] = pd.to_datetime(exchange_rate_df['Date']).dt.to_period('M')\n",
    "exchange_rate_df"
   ]
  },
  {
   "cell_type": "code",
   "execution_count": 8,
   "metadata": {
    "scrolled": true
   },
   "outputs": [
    {
     "data": {
      "text/html": [
       "<div>\n",
       "<style scoped>\n",
       "    .dataframe tbody tr th:only-of-type {\n",
       "        vertical-align: middle;\n",
       "    }\n",
       "\n",
       "    .dataframe tbody tr th {\n",
       "        vertical-align: top;\n",
       "    }\n",
       "\n",
       "    .dataframe thead th {\n",
       "        text-align: right;\n",
       "    }\n",
       "</style>\n",
       "<table border=\"1\" class=\"dataframe\">\n",
       "  <thead>\n",
       "    <tr style=\"text-align: right;\">\n",
       "      <th></th>\n",
       "      <th>date</th>\n",
       "      <th>grade</th>\n",
       "      <th>masa</th>\n",
       "      <th>rm</th>\n",
       "      <th>us</th>\n",
       "      <th>tone</th>\n",
       "    </tr>\n",
       "  </thead>\n",
       "  <tbody>\n",
       "    <tr>\n",
       "      <th>0</th>\n",
       "      <td>2021-01-29</td>\n",
       "      <td>SMR CV</td>\n",
       "      <td>Noon</td>\n",
       "      <td>906.50</td>\n",
       "      <td>227.75</td>\n",
       "      <td>Quietly Steady</td>\n",
       "    </tr>\n",
       "    <tr>\n",
       "      <th>1</th>\n",
       "      <td>2021-01-29</td>\n",
       "      <td>SMR L</td>\n",
       "      <td>Noon</td>\n",
       "      <td>896.50</td>\n",
       "      <td>225.25</td>\n",
       "      <td>Quietly Steady</td>\n",
       "    </tr>\n",
       "    <tr>\n",
       "      <th>2</th>\n",
       "      <td>2021-01-29</td>\n",
       "      <td>SMR 5</td>\n",
       "      <td>Noon</td>\n",
       "      <td>641.50</td>\n",
       "      <td>161.20</td>\n",
       "      <td>Quietly Steady</td>\n",
       "    </tr>\n",
       "    <tr>\n",
       "      <th>3</th>\n",
       "      <td>2021-01-29</td>\n",
       "      <td>SMR GP</td>\n",
       "      <td>Noon</td>\n",
       "      <td>638.50</td>\n",
       "      <td>160.45</td>\n",
       "      <td>Quietly Steady</td>\n",
       "    </tr>\n",
       "    <tr>\n",
       "      <th>4</th>\n",
       "      <td>2021-01-29</td>\n",
       "      <td>SMR 10</td>\n",
       "      <td>Noon</td>\n",
       "      <td>631.50</td>\n",
       "      <td>158.65</td>\n",
       "      <td>Quietly Steady</td>\n",
       "    </tr>\n",
       "    <tr>\n",
       "      <th>...</th>\n",
       "      <td>...</td>\n",
       "      <td>...</td>\n",
       "      <td>...</td>\n",
       "      <td>...</td>\n",
       "      <td>...</td>\n",
       "      <td>...</td>\n",
       "    </tr>\n",
       "    <tr>\n",
       "      <th>142</th>\n",
       "      <td>2021-12-01</td>\n",
       "      <td>SMR 5</td>\n",
       "      <td>Noon</td>\n",
       "      <td>749.50</td>\n",
       "      <td>181.30</td>\n",
       "      <td>Steady</td>\n",
       "    </tr>\n",
       "    <tr>\n",
       "      <th>143</th>\n",
       "      <td>2021-12-01</td>\n",
       "      <td>SMR GP</td>\n",
       "      <td>Noon</td>\n",
       "      <td>746.50</td>\n",
       "      <td>180.60</td>\n",
       "      <td>Steady</td>\n",
       "    </tr>\n",
       "    <tr>\n",
       "      <th>144</th>\n",
       "      <td>2021-12-01</td>\n",
       "      <td>SMR 10</td>\n",
       "      <td>Noon</td>\n",
       "      <td>739.50</td>\n",
       "      <td>178.90</td>\n",
       "      <td>Steady</td>\n",
       "    </tr>\n",
       "    <tr>\n",
       "      <th>145</th>\n",
       "      <td>2021-12-01</td>\n",
       "      <td>SMR 20</td>\n",
       "      <td>Noon</td>\n",
       "      <td>737.50</td>\n",
       "      <td>178.40</td>\n",
       "      <td>Steady</td>\n",
       "    </tr>\n",
       "    <tr>\n",
       "      <th>146</th>\n",
       "      <td>2021-12-01</td>\n",
       "      <td>Latex in Bulk</td>\n",
       "      <td>Noon</td>\n",
       "      <td>586.50</td>\n",
       "      <td>586.50</td>\n",
       "      <td>Steady</td>\n",
       "    </tr>\n",
       "  </tbody>\n",
       "</table>\n",
       "<p>1687 rows × 6 columns</p>\n",
       "</div>"
      ],
      "text/plain": [
       "           date          grade  masa      rm      us            tone\n",
       "0    2021-01-29         SMR CV  Noon  906.50  227.75  Quietly Steady\n",
       "1    2021-01-29          SMR L  Noon  896.50  225.25  Quietly Steady\n",
       "2    2021-01-29          SMR 5  Noon  641.50  161.20  Quietly Steady\n",
       "3    2021-01-29         SMR GP  Noon  638.50  160.45  Quietly Steady\n",
       "4    2021-01-29         SMR 10  Noon  631.50  158.65  Quietly Steady\n",
       "..          ...            ...   ...     ...     ...             ...\n",
       "142  2021-12-01          SMR 5  Noon  749.50  181.30          Steady\n",
       "143  2021-12-01         SMR GP  Noon  746.50  180.60          Steady\n",
       "144  2021-12-01         SMR 10  Noon  739.50  178.90          Steady\n",
       "145  2021-12-01         SMR 20  Noon  737.50  178.40          Steady\n",
       "146  2021-12-01  Latex in Bulk  Noon  586.50  586.50          Steady\n",
       "\n",
       "[1687 rows x 6 columns]"
      ]
     },
     "execution_count": 8,
     "metadata": {},
     "output_type": "execute_result"
    }
   ],
   "source": [
    "df_r"
   ]
  },
  {
   "cell_type": "code",
   "execution_count": 9,
   "metadata": {},
   "outputs": [],
   "source": [
    "df_r['us'] = pd.to_numeric(df_r.us)\n",
    "df_r['rm'] = pd.to_numeric(df_r.rm)\n",
    "df_r['date'] = pd.to_datetime(df_r['date']).dt.to_period('M')"
   ]
  },
  {
   "cell_type": "code",
   "execution_count": 10,
   "metadata": {
    "scrolled": true
   },
   "outputs": [
    {
     "name": "stdout",
     "output_type": "stream",
     "text": [
      "<class 'pandas.core.frame.DataFrame'>\n",
      "Int64Index: 1687 entries, 0 to 146\n",
      "Data columns (total 6 columns):\n",
      " #   Column  Non-Null Count  Dtype    \n",
      "---  ------  --------------  -----    \n",
      " 0   date    1687 non-null   period[M]\n",
      " 1   grade   1687 non-null   object   \n",
      " 2   masa    1687 non-null   object   \n",
      " 3   rm      1687 non-null   float64  \n",
      " 4   us      1687 non-null   float64  \n",
      " 5   tone    1687 non-null   object   \n",
      "dtypes: float64(2), object(3), period[M](1)\n",
      "memory usage: 92.3+ KB\n"
     ]
    }
   ],
   "source": [
    "df_r.info()"
   ]
  },
  {
   "cell_type": "code",
   "execution_count": 11,
   "metadata": {},
   "outputs": [],
   "source": [
    "df_r = df_r[df_r.grade == 'SMR 20']"
   ]
  },
  {
   "cell_type": "code",
   "execution_count": 12,
   "metadata": {},
   "outputs": [],
   "source": [
    "df_r = df_r.groupby(['date', 'grade']).mean()[['us', 'rm']]"
   ]
  },
  {
   "cell_type": "code",
   "execution_count": 13,
   "metadata": {},
   "outputs": [
    {
     "data": {
      "text/html": [
       "<div>\n",
       "<style scoped>\n",
       "    .dataframe tbody tr th:only-of-type {\n",
       "        vertical-align: middle;\n",
       "    }\n",
       "\n",
       "    .dataframe tbody tr th {\n",
       "        vertical-align: top;\n",
       "    }\n",
       "\n",
       "    .dataframe thead th {\n",
       "        text-align: right;\n",
       "    }\n",
       "</style>\n",
       "<table border=\"1\" class=\"dataframe\">\n",
       "  <thead>\n",
       "    <tr style=\"text-align: right;\">\n",
       "      <th></th>\n",
       "      <th>date</th>\n",
       "      <th>grade</th>\n",
       "      <th>us</th>\n",
       "      <th>rm</th>\n",
       "    </tr>\n",
       "  </thead>\n",
       "  <tbody>\n",
       "    <tr>\n",
       "      <th>0</th>\n",
       "      <td>2021-01</td>\n",
       "      <td>SMR 20</td>\n",
       "      <td>158.397368</td>\n",
       "      <td>628.578947</td>\n",
       "    </tr>\n",
       "    <tr>\n",
       "      <th>1</th>\n",
       "      <td>2021-02</td>\n",
       "      <td>SMR 20</td>\n",
       "      <td>169.161765</td>\n",
       "      <td>672.676471</td>\n",
       "    </tr>\n",
       "    <tr>\n",
       "      <th>2</th>\n",
       "      <td>2021-03</td>\n",
       "      <td>SMR 20</td>\n",
       "      <td>175.245652</td>\n",
       "      <td>707.891304</td>\n",
       "    </tr>\n",
       "    <tr>\n",
       "      <th>3</th>\n",
       "      <td>2021-04</td>\n",
       "      <td>SMR 20</td>\n",
       "      <td>164.717500</td>\n",
       "      <td>667.850000</td>\n",
       "    </tr>\n",
       "    <tr>\n",
       "      <th>4</th>\n",
       "      <td>2021-05</td>\n",
       "      <td>SMR 20</td>\n",
       "      <td>169.091176</td>\n",
       "      <td>686.088235</td>\n",
       "    </tr>\n",
       "    <tr>\n",
       "      <th>5</th>\n",
       "      <td>2021-06</td>\n",
       "      <td>SMR 20</td>\n",
       "      <td>164.507143</td>\n",
       "      <td>668.857143</td>\n",
       "    </tr>\n",
       "    <tr>\n",
       "      <th>6</th>\n",
       "      <td>2021-07</td>\n",
       "      <td>SMR 20</td>\n",
       "      <td>164.321429</td>\n",
       "      <td>678.690476</td>\n",
       "    </tr>\n",
       "    <tr>\n",
       "      <th>7</th>\n",
       "      <td>2021-08</td>\n",
       "      <td>SMR 20</td>\n",
       "      <td>172.667500</td>\n",
       "      <td>717.650000</td>\n",
       "    </tr>\n",
       "    <tr>\n",
       "      <th>8</th>\n",
       "      <td>2021-09</td>\n",
       "      <td>SMR 20</td>\n",
       "      <td>163.226190</td>\n",
       "      <td>668.976190</td>\n",
       "    </tr>\n",
       "    <tr>\n",
       "      <th>9</th>\n",
       "      <td>2021-10</td>\n",
       "      <td>SMR 20</td>\n",
       "      <td>174.385000</td>\n",
       "      <td>714.075000</td>\n",
       "    </tr>\n",
       "    <tr>\n",
       "      <th>10</th>\n",
       "      <td>2021-11</td>\n",
       "      <td>SMR 20</td>\n",
       "      <td>175.645238</td>\n",
       "      <td>721.880952</td>\n",
       "    </tr>\n",
       "    <tr>\n",
       "      <th>11</th>\n",
       "      <td>2021-12</td>\n",
       "      <td>SMR 20</td>\n",
       "      <td>172.076190</td>\n",
       "      <td>713.000000</td>\n",
       "    </tr>\n",
       "  </tbody>\n",
       "</table>\n",
       "</div>"
      ],
      "text/plain": [
       "       date   grade          us          rm\n",
       "0   2021-01  SMR 20  158.397368  628.578947\n",
       "1   2021-02  SMR 20  169.161765  672.676471\n",
       "2   2021-03  SMR 20  175.245652  707.891304\n",
       "3   2021-04  SMR 20  164.717500  667.850000\n",
       "4   2021-05  SMR 20  169.091176  686.088235\n",
       "5   2021-06  SMR 20  164.507143  668.857143\n",
       "6   2021-07  SMR 20  164.321429  678.690476\n",
       "7   2021-08  SMR 20  172.667500  717.650000\n",
       "8   2021-09  SMR 20  163.226190  668.976190\n",
       "9   2021-10  SMR 20  174.385000  714.075000\n",
       "10  2021-11  SMR 20  175.645238  721.880952\n",
       "11  2021-12  SMR 20  172.076190  713.000000"
      ]
     },
     "execution_count": 13,
     "metadata": {},
     "output_type": "execute_result"
    }
   ],
   "source": [
    "df_2 = pd.DataFrame(df_r)\n",
    "df_2 = df_2.reset_index()\n",
    "df_2"
   ]
  },
  {
   "cell_type": "code",
   "execution_count": 14,
   "metadata": {},
   "outputs": [],
   "source": [
    "df_2 = df_2.merge(exchange_rate_df, left_on='date', right_on='Date')"
   ]
  },
  {
   "cell_type": "code",
   "execution_count": 15,
   "metadata": {},
   "outputs": [],
   "source": [
    "df_2['EUR'] = df_2.us / df_2.EURUSD"
   ]
  },
  {
   "cell_type": "code",
   "execution_count": 16,
   "metadata": {},
   "outputs": [],
   "source": [
    "df_2.drop(columns=['Date', 'EURUSD'], inplace=True)"
   ]
  },
  {
   "cell_type": "code",
   "execution_count": 17,
   "metadata": {},
   "outputs": [],
   "source": [
    "df_2 = df_2.set_index('date')"
   ]
  },
  {
   "cell_type": "code",
   "execution_count": 18,
   "metadata": {},
   "outputs": [
    {
     "name": "stdout",
     "output_type": "stream",
     "text": [
      "<class 'pandas.core.frame.DataFrame'>\n",
      "PeriodIndex: 12 entries, 2021-01 to 2021-12\n",
      "Freq: M\n",
      "Data columns (total 4 columns):\n",
      " #   Column  Non-Null Count  Dtype  \n",
      "---  ------  --------------  -----  \n",
      " 0   grade   12 non-null     object \n",
      " 1   us      12 non-null     float64\n",
      " 2   rm      12 non-null     float64\n",
      " 3   EUR     12 non-null     float64\n",
      "dtypes: float64(3), object(1)\n",
      "memory usage: 480.0+ bytes\n"
     ]
    }
   ],
   "source": [
    "df_2.info()"
   ]
  },
  {
   "cell_type": "code",
   "execution_count": 19,
   "metadata": {
    "scrolled": true
   },
   "outputs": [
    {
     "data": {
      "text/html": [
       "<div>\n",
       "<style scoped>\n",
       "    .dataframe tbody tr th:only-of-type {\n",
       "        vertical-align: middle;\n",
       "    }\n",
       "\n",
       "    .dataframe tbody tr th {\n",
       "        vertical-align: top;\n",
       "    }\n",
       "\n",
       "    .dataframe thead th {\n",
       "        text-align: right;\n",
       "    }\n",
       "</style>\n",
       "<table border=\"1\" class=\"dataframe\">\n",
       "  <thead>\n",
       "    <tr style=\"text-align: right;\">\n",
       "      <th></th>\n",
       "      <th>grade</th>\n",
       "      <th>us</th>\n",
       "      <th>rm</th>\n",
       "      <th>EUR</th>\n",
       "    </tr>\n",
       "    <tr>\n",
       "      <th>date</th>\n",
       "      <th></th>\n",
       "      <th></th>\n",
       "      <th></th>\n",
       "      <th></th>\n",
       "    </tr>\n",
       "  </thead>\n",
       "  <tbody>\n",
       "    <tr>\n",
       "      <th>2021-01</th>\n",
       "      <td>SMR 20</td>\n",
       "      <td>158.397368</td>\n",
       "      <td>628.578947</td>\n",
       "      <td>130.070017</td>\n",
       "    </tr>\n",
       "    <tr>\n",
       "      <th>2021-02</th>\n",
       "      <td>SMR 20</td>\n",
       "      <td>169.161765</td>\n",
       "      <td>672.676471</td>\n",
       "      <td>139.814912</td>\n",
       "    </tr>\n",
       "    <tr>\n",
       "      <th>2021-03</th>\n",
       "      <td>SMR 20</td>\n",
       "      <td>175.245652</td>\n",
       "      <td>707.891304</td>\n",
       "      <td>147.083060</td>\n",
       "    </tr>\n",
       "    <tr>\n",
       "      <th>2021-04</th>\n",
       "      <td>SMR 20</td>\n",
       "      <td>164.717500</td>\n",
       "      <td>667.850000</td>\n",
       "      <td>137.728303</td>\n",
       "    </tr>\n",
       "    <tr>\n",
       "      <th>2021-05</th>\n",
       "      <td>SMR 20</td>\n",
       "      <td>169.091176</td>\n",
       "      <td>686.088235</td>\n",
       "      <td>139.281485</td>\n",
       "    </tr>\n",
       "    <tr>\n",
       "      <th>2021-06</th>\n",
       "      <td>SMR 20</td>\n",
       "      <td>164.507143</td>\n",
       "      <td>668.857143</td>\n",
       "      <td>136.411902</td>\n",
       "    </tr>\n",
       "    <tr>\n",
       "      <th>2021-07</th>\n",
       "      <td>SMR 20</td>\n",
       "      <td>164.321429</td>\n",
       "      <td>678.690476</td>\n",
       "      <td>138.961918</td>\n",
       "    </tr>\n",
       "    <tr>\n",
       "      <th>2021-08</th>\n",
       "      <td>SMR 20</td>\n",
       "      <td>172.667500</td>\n",
       "      <td>717.650000</td>\n",
       "      <td>146.690107</td>\n",
       "    </tr>\n",
       "    <tr>\n",
       "      <th>2021-09</th>\n",
       "      <td>SMR 20</td>\n",
       "      <td>163.226190</td>\n",
       "      <td>668.976190</td>\n",
       "      <td>138.587562</td>\n",
       "    </tr>\n",
       "    <tr>\n",
       "      <th>2021-10</th>\n",
       "      <td>SMR 20</td>\n",
       "      <td>174.385000</td>\n",
       "      <td>714.075000</td>\n",
       "      <td>150.323719</td>\n",
       "    </tr>\n",
       "    <tr>\n",
       "      <th>2021-11</th>\n",
       "      <td>SMR 20</td>\n",
       "      <td>175.645238</td>\n",
       "      <td>721.880952</td>\n",
       "      <td>153.841424</td>\n",
       "    </tr>\n",
       "    <tr>\n",
       "      <th>2021-12</th>\n",
       "      <td>SMR 20</td>\n",
       "      <td>172.076190</td>\n",
       "      <td>713.000000</td>\n",
       "      <td>152.182977</td>\n",
       "    </tr>\n",
       "  </tbody>\n",
       "</table>\n",
       "</div>"
      ],
      "text/plain": [
       "          grade          us          rm         EUR\n",
       "date                                               \n",
       "2021-01  SMR 20  158.397368  628.578947  130.070017\n",
       "2021-02  SMR 20  169.161765  672.676471  139.814912\n",
       "2021-03  SMR 20  175.245652  707.891304  147.083060\n",
       "2021-04  SMR 20  164.717500  667.850000  137.728303\n",
       "2021-05  SMR 20  169.091176  686.088235  139.281485\n",
       "2021-06  SMR 20  164.507143  668.857143  136.411902\n",
       "2021-07  SMR 20  164.321429  678.690476  138.961918\n",
       "2021-08  SMR 20  172.667500  717.650000  146.690107\n",
       "2021-09  SMR 20  163.226190  668.976190  138.587562\n",
       "2021-10  SMR 20  174.385000  714.075000  150.323719\n",
       "2021-11  SMR 20  175.645238  721.880952  153.841424\n",
       "2021-12  SMR 20  172.076190  713.000000  152.182977"
      ]
     },
     "execution_count": 19,
     "metadata": {},
     "output_type": "execute_result"
    }
   ],
   "source": [
    "df_2.index = df_2.index.astype(str)\n",
    "df_2"
   ]
  },
  {
   "cell_type": "code",
   "execution_count": 20,
   "metadata": {},
   "outputs": [],
   "source": [
    "from pylab import rcParams\n",
    "rcParams['figure.figsize'] = 15,7"
   ]
  },
  {
   "cell_type": "code",
   "execution_count": 21,
   "metadata": {},
   "outputs": [
    {
     "data": {
      "image/png": "[encoded data removed]",
      "text/plain": [
       "<Figure size 1080x504 with 1 Axes>"
      ]
     },
     "metadata": {},
     "output_type": "display_data"
    }
   ],
   "source": [
    "plt.title('Цена SMR 20 в EUR', fontsize=16, fontweight='bold')\n",
    "plt.plot(df_2['EUR'], label='EUR')\n",
    "plt.legend()\n",
    "plt.show()"
   ]
  },
  {
   "cell_type": "code",
   "execution_count": 22,
   "metadata": {},
   "outputs": [
    {
     "data": {
      "text/plain": [
       "{'Monty': {'location': 'EU', 'volumes': 200, 'formula': 'moving_average'},\n",
       " 'Triangle': {'location': 'CN', 'volumes': 30, 'formula': 'monthly'},\n",
       " 'Stone': {'location': 'EU', 'volumes': 150, 'formula': 'moving_average'},\n",
       " 'Poly': {'location': 'EU', 'volumes': 70, 'formula': 'monthly'}}"
      ]
     },
     "execution_count": 22,
     "metadata": {},
     "output_type": "execute_result"
    }
   ],
   "source": [
    "customers"
   ]
  },
  {
   "cell_type": "code",
   "execution_count": 23,
   "metadata": {},
   "outputs": [
    {
     "data": {
      "text/plain": [
       "{'up to 100': 0.01, 'up to 300': 0.05, '300 plus': 0.1}"
      ]
     },
     "execution_count": 23,
     "metadata": {},
     "output_type": "execute_result"
    }
   ],
   "source": [
    "discounts"
   ]
  },
  {
   "cell_type": "code",
   "execution_count": 24,
   "metadata": {},
   "outputs": [
    {
     "data": {
      "text/plain": [
       "dict_items([('Monty', {'location': 'EU', 'volumes': 200, 'formula': 'moving_average'}), ('Triangle', {'location': 'CN', 'volumes': 30, 'formula': 'monthly'}), ('Stone', {'location': 'EU', 'volumes': 150, 'formula': 'moving_average'}), ('Poly', {'location': 'EU', 'volumes': 70, 'formula': 'monthly'})])"
      ]
     },
     "execution_count": 24,
     "metadata": {},
     "output_type": "execute_result"
    }
   ],
   "source": [
    "customers.items()"
   ]
  },
  {
   "cell_type": "code",
   "execution_count": 34,
   "metadata": {},
   "outputs": [],
   "source": [
    "def calculation_price(df, client: str, values: dict) -> pd.DataFrame:\n",
    "    \"\"\"\n",
    "    Функция расчета возможной цены с доставкой для каждого \n",
    "    клиента с учетом локации и объемов закупки.\n",
    "    \n",
    "    :param df: Датафрейм со стоимостью каучука\n",
    "    :param client: имя клиента\n",
    "    :param values: данные о клиенте\n",
    "    \"\"\"\n",
    "    LOGISTIC_COST = {'EUR': 30,\n",
    "                 'us': 130}\n",
    "    main_df = df.copy()\n",
    "    \n",
    "    # расчет цены каучука с доставкой в европу\n",
    "    if values.get('location') == 'EU':\n",
    "        if values.get('volumes') < 100:\n",
    "            main_df[f'{client}_price_eur'] = main_df['EUR'] * (1 - discounts.get('up to 100'))\n",
    "        elif values.get('volumes') >= 100 and values.get('volumes') < 300:\n",
    "            main_df[f'{client}_price_eur'] = main_df['EUR'] * (1 - discounts.get('up to 300'))\n",
    "        else:\n",
    "            main_df[f'{client}_price_eur'] = main_df['EUR'] * (1 - discounts.get('300 plus'))\n",
    "        main_df[f'{client}_price_eur'] = main_df[f'{client}_price_eur'] + LOGISTIC_COST.get('EUR')\n",
    "        main_df = main_df[f'{client}_price_eur']\n",
    "        \n",
    "    # расчет цены каучука с доставкой в китай    \n",
    "    if values.get('location') == 'CN':\n",
    "            if values.get('volumes') < 100:\n",
    "                main_df[f'{client}_price_us'] = main_df['us'] * (1 - discounts.get('up to 100'))\n",
    "            elif values.get('volumes') >= 100 and values.get('volumes') < 300:\n",
    "                main_df[f'{client}_price_us'] = main_df['us'] * (1 - discounts.get('up to 300'))\n",
    "            else:\n",
    "                main_df[f'{client}_price_us'] = main_df['us'] * (1 - discounts.get('300 plus'))\n",
    "            main_df[f'{client}_price_us'] = main_df[f'{client}_price_us'] + LOGISTIC_COST.get('us')\n",
    "            main_df = main_df[f'{client}_price_us']\n",
    "    return main_df\n",
    "    \n",
    "        \n",
    "def write_clients_file(customers: dict, discounts: dict, df):\n",
    "    with pd.ExcelWriter('price_proposals.xlsx') as writer:\n",
    "        for client, values in customers.items():\n",
    "            client_df = calculation_price(df, client, values)\n",
    "            client_df.to_excel(writer, sheet_name=client)"
   ]
  },
  {
   "cell_type": "code",
   "execution_count": 35,
   "metadata": {},
   "outputs": [],
   "source": [
    "write_clients_file(customers, discounts, df_2)"
   ]
  },
  {
   "cell_type": "markdown",
   "metadata": {
    "pycharm": {
     "name": "#%% md\n"
    }
   },
   "source": [
    "# Задание 2. Продолжение"
   ]
  },
  {
   "cell_type": "markdown",
   "metadata": {
    "pycharm": {
     "name": "#%% md\n"
    }
   },
   "source": [
    "Клиенты согласились на ваше предложение.\n",
    "### Что нужно сделать?\n",
    "Вам нужно написать скрипт, с помощью которого можно автоматом рассчитывать цены для всех клиентов одновременно.\n",
    "\n",
    "\n",
    "\n",
    "* В результате должен быть скрипт, который делает расчет цены для клиента (чтобы данные подтягивались туда сами)"
   ]
  },
  {
   "cell_type": "code",
   "execution_count": null,
   "metadata": {
    "pycharm": {
     "name": "#%%\n"
    }
   },
   "outputs": [],
   "source": []
  },
  {
   "cell_type": "markdown",
   "metadata": {
    "pycharm": {
     "name": "#%% md\n"
    }
   },
   "source": [
    "# Задание 3. Поделись с ближним"
   ]
  },
  {
   "cell_type": "markdown",
   "metadata": {
    "pycharm": {
     "name": "#%% md\n"
    }
   },
   "source": [
    "Вы решили пойти в отпуск на время вашего отсутствия вас будет заменять коллега. Он будет заниматься рассчетом цен для клиентов. Чтобы ему было проще вам нужно завернуть ваши скрипты в модуль, который будет запускать у себя коллега."
   ]
  },
  {
   "cell_type": "markdown",
   "metadata": {
    "pycharm": {
     "name": "#%% md\n"
    }
   },
   "source": [
    "### Что нужно сделать?\n",
    "* Создайте модуль, который можно запускать в ноутбуке подкладывая в ту же директорию\n",
    "* Хорошенько задокументируйте ВСЁ\n",
    "* Помните о PEP8"
   ]
  },
  {
   "cell_type": "code",
   "execution_count": 3,
   "metadata": {
    "pycharm": {
     "name": "#%%\n"
    }
   },
   "outputs": [],
   "source": [
    "# import yourpackage"
   ]
  },
  {
   "cell_type": "markdown",
   "metadata": {
    "pycharm": {
     "name": "#%% md\n"
    }
   },
   "source": [
    "# Задание 4. Поделись пакетом"
   ]
  },
  {
   "cell_type": "markdown",
   "metadata": {
    "pycharm": {
     "name": "#%% md\n"
    }
   },
   "source": [
    "Ваши коллеги узнали, что вы быстро рассчитываете цены для формульных контрактов, и решили использовать такую же практику для своих продуктов и клиентов. Вам нужно создать пакет, чтобы его было проще устанавливать и использовать."
   ]
  },
  {
   "cell_type": "markdown",
   "metadata": {
    "pycharm": {
     "name": "#%% md\n"
    }
   },
   "source": [
    "### Что нужно сделать?\n",
    "* Создайте отдельный пакет, который можно устанавливать с помощью pip\n",
    "* В пакете должны быть реализованы функции для рассчета цен по формульным контрактам\n",
    "* Выложите пакет в свой репозиторий"
   ]
  },
  {
   "cell_type": "code",
   "execution_count": null,
   "metadata": {
    "pycharm": {
     "name": "#%%\n"
    }
   },
   "outputs": [],
   "source": [
    "# !pip install yourpackage\n",
    "# import yourpackage"
   ]
  }
 ],
 "metadata": {
  "kernelspec": {
   "display_name": "Python 3",
   "language": "python",
   "name": "python3"
  },
  "language_info": {
   "codemirror_mode": {
    "name": "ipython",
    "version": 3
   },
   "file_extension": ".py",
   "mimetype": "text/x-python",
   "name": "python",
   "nbconvert_exporter": "python",
   "pygments_lexer": "ipython3",
   "version": "3.8.8"
  }
 },
 "nbformat": 4,
 "nbformat_minor": 2
}
