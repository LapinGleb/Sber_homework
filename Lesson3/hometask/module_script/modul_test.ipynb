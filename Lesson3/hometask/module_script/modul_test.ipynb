{
 "cells": [
  {
   "cell_type": "code",
   "execution_count": 8,
   "metadata": {
    "pycharm": {
     "name": "#%%\n"
    }
   },
   "outputs": [],
   "source": [
    "from price_calculation_mod import calculate_prices"
   ]
  },
  {
   "cell_type": "code",
   "execution_count": null,
   "outputs": [],
   "source": [
    "import importlib"
   ],
   "metadata": {
    "collapsed": false,
    "pycharm": {
     "name": "#%%\n"
    }
   }
  },
  {
   "cell_type": "code",
   "execution_count": null,
   "outputs": [],
   "source": [
    "importlib.reload(price_calculation_mod.calculate_pr)"
   ],
   "metadata": {
    "collapsed": false,
    "pycharm": {
     "name": "#%%\n"
    }
   }
  },
  {
   "cell_type": "code",
   "execution_count": null,
   "outputs": [],
   "source": [
    "calculate_prices()"
   ],
   "metadata": {
    "collapsed": false,
    "pycharm": {
     "name": "#%%\n"
    }
   }
  },
  {
   "cell_type": "code",
   "execution_count": null,
   "outputs": [],
   "source": [
    "%%writefile somefile.py\n",
    "import price_calculation_mod"
   ],
   "metadata": {
    "collapsed": false,
    "pycharm": {
     "name": "#%%\n"
    }
   }
  },
  {
   "cell_type": "code",
   "execution_count": null,
   "outputs": [],
   "source": [
    "ls"
   ],
   "metadata": {
    "collapsed": false,
    "pycharm": {
     "name": "#%%\n"
    }
   }
  },
  {
   "cell_type": "code",
   "execution_count": null,
   "outputs": [],
   "source": [
    "cat somefile.py\n"
   ],
   "metadata": {
    "collapsed": false,
    "pycharm": {
     "name": "#%%\n"
    }
   }
  },
  {
   "cell_type": "code",
   "execution_count": 2,
   "metadata": {
    "pycharm": {
     "name": "#%%\n"
    }
   },
   "outputs": [
    {
     "name": "stdout",
     "output_type": "stream",
     "text": [
      "Подгружаем котировки и курсы\n"
     ]
    },
    {
     "data": {
      "application/vnd.jupyter.widget-view+json": {
       "model_id": "ccda37aed4764c5fa6f750c4e38abd7b",
       "version_major": 2,
       "version_minor": 0
      },
      "text/plain": [
       "  0%|          | 0/4 [00:00<?, ?it/s]"
      ]
     },
     "metadata": {},
     "output_type": "display_data"
    },
    {
     "name": "stdout",
     "output_type": "stream",
     "text": [
      "Рассчитываем цены\n",
      "Готовим отдельный файл для клиентов\n",
      "Date\n",
      "2019-06-30        NaN\n",
      "2019-07-31        NaN\n",
      "2019-08-31    1132.11\n",
      "2019-09-30    1147.80\n",
      "2019-10-31    1136.39\n",
      "Freq: M, Name: MWP_PRICE_EUR_EU_MA, dtype: float64\n",
      "Monty готов\n",
      "Date\n",
      "2019-06-30    1572.34\n",
      "2019-07-31    1614.82\n",
      "2019-08-31    1568.24\n",
      "2019-09-30    1597.20\n",
      "2019-10-31    1551.67\n",
      "Freq: M, Name: MWP_PRICE_USD_CN, dtype: float64\n",
      "Triangle готов\n",
      "Date\n",
      "2019-06-30        NaN\n",
      "2019-07-31        NaN\n",
      "2019-08-31    1193.34\n",
      "2019-09-30    1209.90\n",
      "2019-10-31    1197.86\n",
      "Freq: M, Name: MWP_PRICE_EUR_EU_MA, dtype: float64\n",
      "Stone готов\n",
      "Date\n",
      "2019-06-30    1223.24\n",
      "2019-07-31    1267.63\n",
      "2019-08-31    1236.12\n",
      "2019-09-30    1275.00\n",
      "2019-10-31    1229.98\n",
      "Freq: M, Name: MWP_PRICE_EUR_EU, dtype: float64\n",
      "Poly готов\n",
      "Удаляем ненужные файлы\n",
      "Работа завершена!\n"
     ]
    }
   ],
   "source": [
    "calculate_prices()"
   ]
  },
  {
   "cell_type": "code",
   "execution_count": 7,
   "metadata": {
    "pycharm": {
     "name": "#%%\n"
    }
   },
   "outputs": [
    {
     "name": "stdout",
     "output_type": "stream",
     "text": [
      "Overwriting somefile.py\n"
     ]
    }
   ],
   "source": [
    "%%writefile somefile.py\n",
    "import price_calculation_mod"
   ]
  },
  {
   "cell_type": "code",
   "execution_count": 5,
   "metadata": {
    "pycharm": {
     "name": "#%%\n"
    }
   },
   "outputs": [
    {
     "name": "stdout",
     "output_type": "stream",
     "text": [
      "\u001B[34m__pycache__\u001B[m\u001B[m/              modul_test.ipynb          somefile.py\r\n",
      "\u001B[34mclients_wbp_prices\u001B[m\u001B[m/       price_calculation_mod.py  \u001B[34msrc\u001B[m\u001B[m/\r\n"
     ]
    }
   ],
   "source": [
    "ls"
   ]
  },
  {
   "cell_type": "code",
   "execution_count": 6,
   "metadata": {},
   "outputs": [
    {
     "name": "stdout",
     "output_type": "stream",
     "text": [
      "import price_calculation_mod\r\n"
     ]
    }
   ],
   "source": [
    "cat somefile.py\n"
   ]
  },
  {
   "cell_type": "code",
   "execution_count": null,
   "metadata": {},
   "outputs": [],
   "source": []
  }
 ],
 "metadata": {
  "kernelspec": {
   "display_name": "Python 3 (ipykernel)",
   "language": "python",
   "name": "python3"
  },
  "language_info": {
   "codemirror_mode": {
    "name": "ipython",
    "version": 3
   },
   "file_extension": ".py",
   "mimetype": "text/x-python",
   "name": "python",
   "nbconvert_exporter": "python",
   "pygments_lexer": "ipython3",
   "version": "3.9.1"
  }
 },
 "nbformat": 4,
 "nbformat_minor": 1
}