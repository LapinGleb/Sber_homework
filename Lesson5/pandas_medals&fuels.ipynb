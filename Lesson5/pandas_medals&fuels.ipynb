{
 "cells": [
  {
   "cell_type": "markdown",
   "metadata": {
    "pycharm": {
     "name": "#%% md\n"
    }
   },
   "source": [
    "# Pandas и присоединение таблиц"
   ]
  },
  {
   "cell_type": "markdown",
   "source": [
    "[![Open In Colab](https://colab.research.google.com/assets/colab-badge.svg)](https://colab.research.google.com/github/da-python/python-for-data-analytics/blob/main/Lesson5/pandas_medals&fuels.ipynb)"
   ],
   "metadata": {
    "collapsed": false,
    "pycharm": {
     "name": "#%% md\n"
    }
   }
  },
  {
   "cell_type": "code",
   "execution_count": null,
   "outputs": [],
   "source": [
    "# Colab Version\n",
    "# !pip install wget\n",
    "# !mkdir data\n",
    "# !wget -P /data https://raw.githubusercontent.com/da-python/python-for-data-analytics/main/Lesson5/data/medals_data.zip"
   ],
   "metadata": {
    "collapsed": false,
    "pycharm": {
     "name": "#%%\n"
    }
   }
  },
  {
   "cell_type": "code",
   "execution_count": 2,
   "metadata": {
    "pycharm": {
     "name": "#%%\n"
    }
   },
   "outputs": [],
   "source": [
    "import pandas as pd\n",
    "import os"
   ]
  },
  {
   "cell_type": "code",
   "execution_count": 4,
   "metadata": {
    "pycharm": {
     "name": "#%%\n"
    }
   },
   "outputs": [
    {
     "data": {
      "text/plain": "   NOC         Country   Total\n0  USA   United States  2088.0\n1  URS    Soviet Union   838.0\n2  GBR  United Kingdom   498.0\n3  FRA          France   378.0\n4  GER         Germany   407.0",
      "text/html": "<div>\n<style scoped>\n    .dataframe tbody tr th:only-of-type {\n        vertical-align: middle;\n    }\n\n    .dataframe tbody tr th {\n        vertical-align: top;\n    }\n\n    .dataframe thead th {\n        text-align: right;\n    }\n</style>\n<table border=\"1\" class=\"dataframe\">\n  <thead>\n    <tr style=\"text-align: right;\">\n      <th></th>\n      <th>NOC</th>\n      <th>Country</th>\n      <th>Total</th>\n    </tr>\n  </thead>\n  <tbody>\n    <tr>\n      <th>0</th>\n      <td>USA</td>\n      <td>United States</td>\n      <td>2088.0</td>\n    </tr>\n    <tr>\n      <th>1</th>\n      <td>URS</td>\n      <td>Soviet Union</td>\n      <td>838.0</td>\n    </tr>\n    <tr>\n      <th>2</th>\n      <td>GBR</td>\n      <td>United Kingdom</td>\n      <td>498.0</td>\n    </tr>\n    <tr>\n      <th>3</th>\n      <td>FRA</td>\n      <td>France</td>\n      <td>378.0</td>\n    </tr>\n    <tr>\n      <th>4</th>\n      <td>GER</td>\n      <td>Germany</td>\n      <td>407.0</td>\n    </tr>\n  </tbody>\n</table>\n</div>"
     },
     "execution_count": 4,
     "metadata": {},
     "output_type": "execute_result"
    }
   ],
   "source": [
    "# Прописываем пути к файлам\n",
    "bronzefpth = os.path.join('data','medals_data','medals','Bronze.csv')\n",
    "silverfpth = os.path.join('data','medals_data','medals','Silver.csv')\n",
    "goldfpth = os.path.join('data','medals_data','medals','Gold.csv')\n",
    "# Подгружаем CSV\n",
    "bronze = pd.read_csv(bronzefpth).head(5)\n",
    "silver = pd.read_csv(silverfpth).head(5)\n",
    "gold = pd.read_csv(goldfpth).head(5)\n",
    "gold"
   ]
  },
  {
   "cell_type": "code",
   "execution_count": 5,
   "metadata": {
    "pycharm": {
     "name": "#%%\n"
    }
   },
   "outputs": [
    {
     "data": {
      "text/plain": "   NOC         Country   Total\n0  USA   United States  1195.0\n1  URS    Soviet Union   627.0\n2  GBR  United Kingdom   591.0\n3  FRA          France   461.0\n4  GER         Germany   350.0",
      "text/html": "<div>\n<style scoped>\n    .dataframe tbody tr th:only-of-type {\n        vertical-align: middle;\n    }\n\n    .dataframe tbody tr th {\n        vertical-align: top;\n    }\n\n    .dataframe thead th {\n        text-align: right;\n    }\n</style>\n<table border=\"1\" class=\"dataframe\">\n  <thead>\n    <tr style=\"text-align: right;\">\n      <th></th>\n      <th>NOC</th>\n      <th>Country</th>\n      <th>Total</th>\n    </tr>\n  </thead>\n  <tbody>\n    <tr>\n      <th>0</th>\n      <td>USA</td>\n      <td>United States</td>\n      <td>1195.0</td>\n    </tr>\n    <tr>\n      <th>1</th>\n      <td>URS</td>\n      <td>Soviet Union</td>\n      <td>627.0</td>\n    </tr>\n    <tr>\n      <th>2</th>\n      <td>GBR</td>\n      <td>United Kingdom</td>\n      <td>591.0</td>\n    </tr>\n    <tr>\n      <th>3</th>\n      <td>FRA</td>\n      <td>France</td>\n      <td>461.0</td>\n    </tr>\n    <tr>\n      <th>4</th>\n      <td>GER</td>\n      <td>Germany</td>\n      <td>350.0</td>\n    </tr>\n  </tbody>\n</table>\n</div>"
     },
     "execution_count": 5,
     "metadata": {},
     "output_type": "execute_result"
    }
   ],
   "source": [
    "silver"
   ]
  },
  {
   "cell_type": "code",
   "execution_count": 6,
   "metadata": {
    "pycharm": {
     "name": "#%%\n"
    }
   },
   "outputs": [
    {
     "data": {
      "text/plain": "   NOC         Country   Total\n0  USA   United States  1052.0\n1  URS    Soviet Union   584.0\n2  GBR  United Kingdom   505.0\n3  FRA          France   475.0\n4  GER         Germany   454.0",
      "text/html": "<div>\n<style scoped>\n    .dataframe tbody tr th:only-of-type {\n        vertical-align: middle;\n    }\n\n    .dataframe tbody tr th {\n        vertical-align: top;\n    }\n\n    .dataframe thead th {\n        text-align: right;\n    }\n</style>\n<table border=\"1\" class=\"dataframe\">\n  <thead>\n    <tr style=\"text-align: right;\">\n      <th></th>\n      <th>NOC</th>\n      <th>Country</th>\n      <th>Total</th>\n    </tr>\n  </thead>\n  <tbody>\n    <tr>\n      <th>0</th>\n      <td>USA</td>\n      <td>United States</td>\n      <td>1052.0</td>\n    </tr>\n    <tr>\n      <th>1</th>\n      <td>URS</td>\n      <td>Soviet Union</td>\n      <td>584.0</td>\n    </tr>\n    <tr>\n      <th>2</th>\n      <td>GBR</td>\n      <td>United Kingdom</td>\n      <td>505.0</td>\n    </tr>\n    <tr>\n      <th>3</th>\n      <td>FRA</td>\n      <td>France</td>\n      <td>475.0</td>\n    </tr>\n    <tr>\n      <th>4</th>\n      <td>GER</td>\n      <td>Germany</td>\n      <td>454.0</td>\n    </tr>\n  </tbody>\n</table>\n</div>"
     },
     "execution_count": 6,
     "metadata": {},
     "output_type": "execute_result"
    }
   ],
   "source": [
    "bronze"
   ]
  },
  {
   "cell_type": "code",
   "execution_count": 7,
   "metadata": {
    "pycharm": {
     "name": "#%%\n"
    }
   },
   "outputs": [],
   "source": [
    "medals = gold.copy()"
   ]
  },
  {
   "cell_type": "code",
   "execution_count": 8,
   "metadata": {
    "pycharm": {
     "name": "#%%\n"
    }
   },
   "outputs": [
    {
     "data": {
      "text/plain": "   NOC         Country   Total\n0  USA   United States  2088.0\n1  URS    Soviet Union   838.0\n2  GBR  United Kingdom   498.0\n3  FRA          France   378.0\n4  GER         Germany   407.0",
      "text/html": "<div>\n<style scoped>\n    .dataframe tbody tr th:only-of-type {\n        vertical-align: middle;\n    }\n\n    .dataframe tbody tr th {\n        vertical-align: top;\n    }\n\n    .dataframe thead th {\n        text-align: right;\n    }\n</style>\n<table border=\"1\" class=\"dataframe\">\n  <thead>\n    <tr style=\"text-align: right;\">\n      <th></th>\n      <th>NOC</th>\n      <th>Country</th>\n      <th>Total</th>\n    </tr>\n  </thead>\n  <tbody>\n    <tr>\n      <th>0</th>\n      <td>USA</td>\n      <td>United States</td>\n      <td>2088.0</td>\n    </tr>\n    <tr>\n      <th>1</th>\n      <td>URS</td>\n      <td>Soviet Union</td>\n      <td>838.0</td>\n    </tr>\n    <tr>\n      <th>2</th>\n      <td>GBR</td>\n      <td>United Kingdom</td>\n      <td>498.0</td>\n    </tr>\n    <tr>\n      <th>3</th>\n      <td>FRA</td>\n      <td>France</td>\n      <td>378.0</td>\n    </tr>\n    <tr>\n      <th>4</th>\n      <td>GER</td>\n      <td>Germany</td>\n      <td>407.0</td>\n    </tr>\n  </tbody>\n</table>\n</div>"
     },
     "execution_count": 8,
     "metadata": {},
     "output_type": "execute_result"
    }
   ],
   "source": [
    "medals"
   ]
  },
  {
   "cell_type": "code",
   "execution_count": 9,
   "metadata": {
    "pycharm": {
     "name": "#%%\n"
    }
   },
   "outputs": [],
   "source": [
    "new_labels = ['NOC', 'Country', 'Gold']\n",
    "medals.columns = new_labels\n",
    "medals['Silver'] = silver['Total']\n",
    "medals['Bronze'] = bronze['Total']"
   ]
  },
  {
   "cell_type": "code",
   "execution_count": 10,
   "metadata": {
    "scrolled": true,
    "pycharm": {
     "name": "#%%\n"
    }
   },
   "outputs": [
    {
     "data": {
      "text/plain": "   NOC         Country    Gold  Silver  Bronze\n0  USA   United States  2088.0  1195.0  1052.0\n1  URS    Soviet Union   838.0   627.0   584.0\n2  GBR  United Kingdom   498.0   591.0   505.0\n3  FRA          France   378.0   461.0   475.0\n4  GER         Germany   407.0   350.0   454.0",
      "text/html": "<div>\n<style scoped>\n    .dataframe tbody tr th:only-of-type {\n        vertical-align: middle;\n    }\n\n    .dataframe tbody tr th {\n        vertical-align: top;\n    }\n\n    .dataframe thead th {\n        text-align: right;\n    }\n</style>\n<table border=\"1\" class=\"dataframe\">\n  <thead>\n    <tr style=\"text-align: right;\">\n      <th></th>\n      <th>NOC</th>\n      <th>Country</th>\n      <th>Gold</th>\n      <th>Silver</th>\n      <th>Bronze</th>\n    </tr>\n  </thead>\n  <tbody>\n    <tr>\n      <th>0</th>\n      <td>USA</td>\n      <td>United States</td>\n      <td>2088.0</td>\n      <td>1195.0</td>\n      <td>1052.0</td>\n    </tr>\n    <tr>\n      <th>1</th>\n      <td>URS</td>\n      <td>Soviet Union</td>\n      <td>838.0</td>\n      <td>627.0</td>\n      <td>584.0</td>\n    </tr>\n    <tr>\n      <th>2</th>\n      <td>GBR</td>\n      <td>United Kingdom</td>\n      <td>498.0</td>\n      <td>591.0</td>\n      <td>505.0</td>\n    </tr>\n    <tr>\n      <th>3</th>\n      <td>FRA</td>\n      <td>France</td>\n      <td>378.0</td>\n      <td>461.0</td>\n      <td>475.0</td>\n    </tr>\n    <tr>\n      <th>4</th>\n      <td>GER</td>\n      <td>Germany</td>\n      <td>407.0</td>\n      <td>350.0</td>\n      <td>454.0</td>\n    </tr>\n  </tbody>\n</table>\n</div>"
     },
     "execution_count": 10,
     "metadata": {},
     "output_type": "execute_result"
    }
   ],
   "source": [
    "medals.head()"
   ]
  },
  {
   "cell_type": "code",
   "execution_count": 10,
   "metadata": {
    "pycharm": {
     "name": "#%%\n"
    }
   },
   "outputs": [],
   "source": []
  },
  {
   "cell_type": "code",
   "execution_count": 11,
   "metadata": {
    "pycharm": {
     "name": "#%%\n"
    }
   },
   "outputs": [],
   "source": [
    "# Когда мы хотим слить несколько табиц с одинаковыми колонками в одну большую (по вертикали)\n",
    "medals_dict = {'gold': goldfpth, 'silver': silverfpth,'bronze':bronzefpth}"
   ]
  },
  {
   "cell_type": "code",
   "execution_count": 12,
   "metadata": {
    "pycharm": {
     "name": "#%%\n"
    }
   },
   "outputs": [
    {
     "data": {
      "text/plain": "{'gold': 'data/medals_data/medals/Gold.csv',\n 'silver': 'data/medals_data/medals/Silver.csv',\n 'bronze': 'data/medals_data/medals/Bronze.csv'}"
     },
     "execution_count": 12,
     "metadata": {},
     "output_type": "execute_result"
    }
   ],
   "source": [
    "medals_dict"
   ]
  },
  {
   "cell_type": "code",
   "execution_count": 40,
   "metadata": {
    "pycharm": {
     "name": "#%%\n"
    }
   },
   "outputs": [],
   "source": [
    "# Можно использовать метод df.append()\n",
    "# !!! Важно, что он работает не так как append в списках, то есть не inplace\n",
    "medals_df = pd.DataFrame()"
   ]
  },
  {
   "cell_type": "code",
   "execution_count": 41,
   "metadata": {
    "pycharm": {
     "name": "#%%\n"
    }
   },
   "outputs": [],
   "source": [
    "for medal, fpth in medals_dict.items():\n",
    "    df_temp = pd.read_csv(fpth)\n",
    "    df_temp['medal'] = medal\n",
    "    medals_df = medals_df.append(df_temp)"
   ]
  },
  {
   "cell_type": "code",
   "execution_count": 42,
   "metadata": {
    "pycharm": {
     "name": "#%%\n"
    }
   },
   "outputs": [
    {
     "data": {
      "text/html": [
       "<div>\n",
       "<style scoped>\n",
       "    .dataframe tbody tr th:only-of-type {\n",
       "        vertical-align: middle;\n",
       "    }\n",
       "\n",
       "    .dataframe tbody tr th {\n",
       "        vertical-align: top;\n",
       "    }\n",
       "\n",
       "    .dataframe thead th {\n",
       "        text-align: right;\n",
       "    }\n",
       "</style>\n",
       "<table border=\"1\" class=\"dataframe\">\n",
       "  <thead>\n",
       "    <tr style=\"text-align: right;\">\n",
       "      <th></th>\n",
       "      <th>NOC</th>\n",
       "      <th>Country</th>\n",
       "      <th>Total</th>\n",
       "      <th>medal</th>\n",
       "    </tr>\n",
       "  </thead>\n",
       "  <tbody>\n",
       "    <tr>\n",
       "      <th>0</th>\n",
       "      <td>USA</td>\n",
       "      <td>United States</td>\n",
       "      <td>2088.0</td>\n",
       "      <td>gold</td>\n",
       "    </tr>\n",
       "    <tr>\n",
       "      <th>1</th>\n",
       "      <td>URS</td>\n",
       "      <td>Soviet Union</td>\n",
       "      <td>838.0</td>\n",
       "      <td>gold</td>\n",
       "    </tr>\n",
       "    <tr>\n",
       "      <th>2</th>\n",
       "      <td>GBR</td>\n",
       "      <td>United Kingdom</td>\n",
       "      <td>498.0</td>\n",
       "      <td>gold</td>\n",
       "    </tr>\n",
       "    <tr>\n",
       "      <th>3</th>\n",
       "      <td>FRA</td>\n",
       "      <td>France</td>\n",
       "      <td>378.0</td>\n",
       "      <td>gold</td>\n",
       "    </tr>\n",
       "    <tr>\n",
       "      <th>4</th>\n",
       "      <td>GER</td>\n",
       "      <td>Germany</td>\n",
       "      <td>407.0</td>\n",
       "      <td>gold</td>\n",
       "    </tr>\n",
       "    <tr>\n",
       "      <th>...</th>\n",
       "      <td>...</td>\n",
       "      <td>...</td>\n",
       "      <td>...</td>\n",
       "      <td>...</td>\n",
       "    </tr>\n",
       "    <tr>\n",
       "      <th>133</th>\n",
       "      <td>SEN</td>\n",
       "      <td>Senegal</td>\n",
       "      <td>NaN</td>\n",
       "      <td>bronze</td>\n",
       "    </tr>\n",
       "    <tr>\n",
       "      <th>134</th>\n",
       "      <td>SUD</td>\n",
       "      <td>Sudan</td>\n",
       "      <td>NaN</td>\n",
       "      <td>bronze</td>\n",
       "    </tr>\n",
       "    <tr>\n",
       "      <th>135</th>\n",
       "      <td>TGA</td>\n",
       "      <td>Tonga</td>\n",
       "      <td>NaN</td>\n",
       "      <td>bronze</td>\n",
       "    </tr>\n",
       "    <tr>\n",
       "      <th>136</th>\n",
       "      <td>BDI</td>\n",
       "      <td>Burundi</td>\n",
       "      <td>NaN</td>\n",
       "      <td>bronze</td>\n",
       "    </tr>\n",
       "    <tr>\n",
       "      <th>137</th>\n",
       "      <td>UAE</td>\n",
       "      <td>United Arab Emirates</td>\n",
       "      <td>NaN</td>\n",
       "      <td>bronze</td>\n",
       "    </tr>\n",
       "  </tbody>\n",
       "</table>\n",
       "<p>414 rows × 4 columns</p>\n",
       "</div>"
      ],
      "text/plain": [
       "     NOC               Country   Total   medal\n",
       "0    USA         United States  2088.0    gold\n",
       "1    URS          Soviet Union   838.0    gold\n",
       "2    GBR        United Kingdom   498.0    gold\n",
       "3    FRA                France   378.0    gold\n",
       "4    GER               Germany   407.0    gold\n",
       "..   ...                   ...     ...     ...\n",
       "133  SEN               Senegal     NaN  bronze\n",
       "134  SUD                 Sudan     NaN  bronze\n",
       "135  TGA                 Tonga     NaN  bronze\n",
       "136  BDI               Burundi     NaN  bronze\n",
       "137  UAE  United Arab Emirates     NaN  bronze\n",
       "\n",
       "[414 rows x 4 columns]"
      ]
     },
     "execution_count": 42,
     "metadata": {},
     "output_type": "execute_result"
    }
   ],
   "source": [
    "medals_df"
   ]
  },
  {
   "cell_type": "markdown",
   "metadata": {
    "pycharm": {
     "name": "#%% md\n"
    }
   },
   "source": [
    "# Практическая часть"
   ]
  },
  {
   "cell_type": "code",
   "execution_count": 20,
   "metadata": {
    "pycharm": {
     "name": "#%%\n"
    }
   },
   "outputs": [],
   "source": [
    "# Даны 3 таблицы\n",
    "medalists = pd.read_csv(os.path.join('data','medals_data','Summer Olympic medalists 1896 to 2008 - ALL MEDALISTS.tsv'), sep='\\t', skiprows=4)\n",
    "editions = pd.read_csv(os.path.join('data','medals_data','Summer Olympic medalists 1896 to 2008 - EDITIONS.tsv'), sep='\\t')\n",
    "countries = pd.read_csv(os.path.join('data','medals_data','Summer Olympic medalists 1896 to 2008 - IOC COUNTRY CODES.csv'))"
   ]
  },
  {
   "cell_type": "code",
   "execution_count": 24,
   "outputs": [],
   "source": [
    "# countries"
   ],
   "metadata": {
    "collapsed": false,
    "pycharm": {
     "name": "#%%\n"
    }
   }
  },
  {
   "cell_type": "code",
   "execution_count": 26,
   "metadata": {
    "pycharm": {
     "name": "#%%\n"
    }
   },
   "outputs": [],
   "source": [
    "# countries.head(3)\n",
    "# editions.head(3)\n",
    "# medalists.head(3)"
   ]
  },
  {
   "cell_type": "code",
   "execution_count": null,
   "metadata": {
    "pycharm": {
     "name": "#%%\n"
    }
   },
   "outputs": [],
   "source": [
    "# Определите гендерное распределение (в процентах) медалистов по странам по годам \n",
    "# Выведите результаты в виде таблицы вместе с полем ISO code\n",
    "#----- Ваш код здесь ----"
   ]
  },
  {
   "cell_type": "markdown",
   "metadata": {
    "pycharm": {
     "name": "#%% md\n"
    }
   },
   "source": [
    "# Немного про Pandas & Excel"
   ]
  },
  {
   "cell_type": "code",
   "execution_count": 100,
   "metadata": {
    "pycharm": {
     "name": "#%%\n"
    }
   },
   "outputs": [],
   "source": [
    "# Сохраним medals_df в файл excel\n",
    "medals_df.to_excel('medals.xlsx', index=False)"
   ]
  },
  {
   "cell_type": "code",
   "execution_count": 142,
   "metadata": {
    "pycharm": {
     "name": "#%%\n"
    }
   },
   "outputs": [
    {
     "data": {
      "text/html": [
       "<div>\n",
       "<style scoped>\n",
       "    .dataframe tbody tr th:only-of-type {\n",
       "        vertical-align: middle;\n",
       "    }\n",
       "\n",
       "    .dataframe tbody tr th {\n",
       "        vertical-align: top;\n",
       "    }\n",
       "\n",
       "    .dataframe thead th {\n",
       "        text-align: right;\n",
       "    }\n",
       "</style>\n",
       "<table border=\"1\" class=\"dataframe\">\n",
       "  <thead>\n",
       "    <tr style=\"text-align: right;\">\n",
       "      <th></th>\n",
       "      <th>NOC</th>\n",
       "      <th>Country</th>\n",
       "      <th>Total</th>\n",
       "      <th>medal</th>\n",
       "    </tr>\n",
       "  </thead>\n",
       "  <tbody>\n",
       "    <tr>\n",
       "      <th>0</th>\n",
       "      <td>USA</td>\n",
       "      <td>United States</td>\n",
       "      <td>2088.0</td>\n",
       "      <td>gold</td>\n",
       "    </tr>\n",
       "    <tr>\n",
       "      <th>1</th>\n",
       "      <td>URS</td>\n",
       "      <td>Soviet Union</td>\n",
       "      <td>838.0</td>\n",
       "      <td>gold</td>\n",
       "    </tr>\n",
       "    <tr>\n",
       "      <th>2</th>\n",
       "      <td>GBR</td>\n",
       "      <td>United Kingdom</td>\n",
       "      <td>498.0</td>\n",
       "      <td>gold</td>\n",
       "    </tr>\n",
       "    <tr>\n",
       "      <th>3</th>\n",
       "      <td>FRA</td>\n",
       "      <td>France</td>\n",
       "      <td>378.0</td>\n",
       "      <td>gold</td>\n",
       "    </tr>\n",
       "    <tr>\n",
       "      <th>4</th>\n",
       "      <td>GER</td>\n",
       "      <td>Germany</td>\n",
       "      <td>407.0</td>\n",
       "      <td>gold</td>\n",
       "    </tr>\n",
       "  </tbody>\n",
       "</table>\n",
       "</div>"
      ],
      "text/plain": [
       "   NOC         Country   Total medal\n",
       "0  USA   United States  2088.0  gold\n",
       "1  URS    Soviet Union   838.0  gold\n",
       "2  GBR  United Kingdom   498.0  gold\n",
       "3  FRA          France   378.0  gold\n",
       "4  GER         Germany   407.0  gold"
      ]
     },
     "execution_count": 142,
     "metadata": {},
     "output_type": "execute_result"
    }
   ],
   "source": [
    "# Если в excel - файле только один лист, или нужен только первый\n",
    "df = pd.read_excel('medals.xlsx')\n",
    "df.head()"
   ]
  },
  {
   "cell_type": "code",
   "execution_count": 146,
   "metadata": {
    "pycharm": {
     "name": "#%%\n"
    }
   },
   "outputs": [
    {
     "data": {
      "text/plain": [
       "['Лист1', 'Лист3', 'Лист2']"
      ]
     },
     "execution_count": 146,
     "metadata": {},
     "output_type": "execute_result"
    }
   ],
   "source": [
    "# Если нужно считать несколько листов из файла, то \n",
    "# можно использовать pd.read_excel c параметром sheet_name \n",
    "xls = pd.ExcelFile('medals.xlsx')\n",
    "xls.sheet_names"
   ]
  },
  {
   "cell_type": "code",
   "execution_count": 148,
   "metadata": {
    "pycharm": {
     "name": "#%%\n"
    }
   },
   "outputs": [],
   "source": [
    "medals_from_excel = pd.DataFrame()\n",
    "for sheet_name in xls.sheet_names:\n",
    "    temp_df = pd.read_excel('medals.xlsx', sheet_name=sheet_name)\n",
    "    medals_from_excel= medals_from_excel.append(temp_df)\n",
    "\n",
    "# medals_from_excel"
   ]
  },
  {
   "cell_type": "markdown",
   "metadata": {
    "pycharm": {
     "name": "#%% md\n"
    }
   },
   "source": [
    "### Как сохранить DataFrame в ексель на разных листах?\n"
   ]
  },
  {
   "cell_type": "code",
   "execution_count": 149,
   "metadata": {
    "pycharm": {
     "name": "#%%\n"
    }
   },
   "outputs": [],
   "source": [
    "# Создаем файл\n",
    "writer = pd.ExcelWriter('medal_on_sheets.xlsx', engine='xlsxwriter')\n",
    "# Записываем на листы\n",
    "gold.to_excel(writer, sheet_name='gold', index=False)\n",
    "silver.to_excel(writer, sheet_name='silver', index=False)\n",
    "bronze.to_excel(writer, sheet_name='bronze', index=False)\n",
    "# Сохраняем и закрвыаем \n",
    "writer.save()"
   ]
  },
  {
   "cell_type": "code",
   "execution_count": 139,
   "metadata": {
    "pycharm": {
     "name": "#%%\n"
    }
   },
   "outputs": [],
   "source": [
    "# Или так c помощью менеджера контекста with\n",
    "with pd.ExcelWriter('medal_on_sheets.xlsx', engine='xlsxwriter') as writer:\n",
    "    for i, tab in enumerate([gold,silver,bronze]):\n",
    "        tab.to_excel(writer, sheet_name=str(i), index=False)\n"
   ]
  },
  {
   "cell_type": "markdown",
   "metadata": {
    "pycharm": {
     "name": "#%% md\n"
    }
   },
   "source": [
    "# Практическая часть "
   ]
  },
  {
   "cell_type": "code",
   "execution_count": null,
   "metadata": {
    "pycharm": {
     "name": "#%%\n"
    }
   },
   "outputs": [],
   "source": [
    "# Сохраните DataFrame medalists в файл medalists.xlsx\n",
    "# В этом файле данные по каждой строне должны быть на отдельном листе\n",
    "#----- Ваш код здесь ----"
   ]
  },
  {
   "cell_type": "code",
   "execution_count": null,
   "metadata": {
    "pycharm": {
     "name": "#%%\n"
    }
   },
   "outputs": [],
   "source": []
  },
  {
   "cell_type": "markdown",
   "metadata": {
    "pycharm": {
     "name": "#%% md\n"
    }
   },
   "source": [
    "# Pandas & ..."
   ]
  },
  {
   "cell_type": "code",
   "execution_count": 46,
   "metadata": {
    "pycharm": {
     "name": "#%%\n"
    }
   },
   "outputs": [],
   "source": [
    "import pandas as pd\n",
    "import requests\n",
    "from tqdm.auto import tqdm"
   ]
  },
  {
   "cell_type": "code",
   "execution_count": null,
   "metadata": {
    "pycharm": {
     "name": "#%%\n"
    }
   },
   "outputs": [],
   "source": [
    "# pip install requests"
   ]
  },
  {
   "cell_type": "code",
   "execution_count": 49,
   "metadata": {
    "pycharm": {
     "name": "#%%\n"
    }
   },
   "outputs": [],
   "source": [
    "headers = {'X-Requested-With': 'XMLHttpRequest'}\n",
    "payload = ({'region':'77'})\n",
    "url = 'http://www.rosneft-azs.ru/map_search'\n",
    "r = requests.post(url, data=payload, headers=headers)\n",
    "res = r.json()"
   ]
  },
  {
   "cell_type": "code",
   "execution_count": null,
   "metadata": {
    "pycharm": {
     "name": "#%%\n"
    }
   },
   "outputs": [],
   "source": []
  },
  {
   "cell_type": "code",
   "execution_count": 52,
   "metadata": {
    "pycharm": {
     "name": "#%%\n"
    }
   },
   "outputs": [],
   "source": [
    "stations = res['stations']"
   ]
  },
  {
   "cell_type": "code",
   "execution_count": 48,
   "metadata": {
    "pycharm": {
     "name": "#%%\n"
    }
   },
   "outputs": [
    {
     "data": {
      "text/plain": [
       "'http://www.rosneft-azs.ru/map_search'"
      ]
     },
     "execution_count": 48,
     "metadata": {},
     "output_type": "execute_result"
    }
   ],
   "source": [
    "url = 'http://www.rosneft-azs.ru/map_search'\n",
    "url"
   ]
  },
  {
   "cell_type": "code",
   "execution_count": 54,
   "metadata": {
    "pycharm": {
     "name": "#%%\n"
    }
   },
   "outputs": [
    {
     "data": {
      "application/vnd.jupyter.widget-view+json": {
       "model_id": "cf742212909c46c99cc25f8aaf3a2bc1",
       "version_major": 2,
       "version_minor": 0
      },
      "text/plain": [
       "  0%|          | 0/2351 [00:00<?, ?it/s]"
      ]
     },
     "metadata": {},
     "output_type": "display_data"
    }
   ],
   "source": [
    "# Формируем словарь со списками для колонок таблицы\n",
    "adict = {'Azs':[],'Address' :[],'Price92':[],'Price95':[]}\n",
    "# Заполняем списки с помощью цикла\n",
    "for station in tqdm(stations):     \n",
    "    adict['Azs'].append(station['id'])\n",
    "    adict['Address'].append(station['address'])\n",
    "    for d in station['price']:\n",
    "        if d['type'] == 92:\n",
    "            adict['Price92'].append(d['price'])\n",
    "        elif d['type'] == 95:\n",
    "            adict['Price95'].append(d['price'])"
   ]
  },
  {
   "cell_type": "code",
   "execution_count": 55,
   "metadata": {
    "pycharm": {
     "name": "#%%\n"
    }
   },
   "outputs": [
    {
     "data": {
      "text/html": [
       "<div>\n",
       "<style scoped>\n",
       "    .dataframe tbody tr th:only-of-type {\n",
       "        vertical-align: middle;\n",
       "    }\n",
       "\n",
       "    .dataframe tbody tr th {\n",
       "        vertical-align: top;\n",
       "    }\n",
       "\n",
       "    .dataframe thead th {\n",
       "        text-align: right;\n",
       "    }\n",
       "</style>\n",
       "<table border=\"1\" class=\"dataframe\">\n",
       "  <thead>\n",
       "    <tr style=\"text-align: right;\">\n",
       "      <th></th>\n",
       "      <th>Azs</th>\n",
       "      <th>Address</th>\n",
       "      <th>Price92</th>\n",
       "      <th>Price95</th>\n",
       "    </tr>\n",
       "  </thead>\n",
       "  <tbody>\n",
       "    <tr>\n",
       "      <th>0</th>\n",
       "      <td>56505</td>\n",
       "      <td>Новосибирская обл., г. Новосибирск, ул. Фабрич...</td>\n",
       "      <td>43.30</td>\n",
       "      <td>46.25</td>\n",
       "    </tr>\n",
       "    <tr>\n",
       "      <th>1</th>\n",
       "      <td>58520</td>\n",
       "      <td>Ростовская обл., Мясниковский р-н, п. Чалтырь,...</td>\n",
       "      <td>45.44</td>\n",
       "      <td>0.00</td>\n",
       "    </tr>\n",
       "    <tr>\n",
       "      <th>2</th>\n",
       "      <td>58316</td>\n",
       "      <td>Владимирская обл., Судогодский р-н, д. Лаврово...</td>\n",
       "      <td>43.90</td>\n",
       "      <td>47.20</td>\n",
       "    </tr>\n",
       "    <tr>\n",
       "      <th>3</th>\n",
       "      <td>58519</td>\n",
       "      <td>Ростовская обл., г. Ростов-на-Дону, ул. 40 Лет...</td>\n",
       "      <td>45.44</td>\n",
       "      <td>49.74</td>\n",
       "    </tr>\n",
       "    <tr>\n",
       "      <th>4</th>\n",
       "      <td>58509</td>\n",
       "      <td>Калужская обл., г. Калуга, ул. Зерновая, 34</td>\n",
       "      <td>43.20</td>\n",
       "      <td>46.40</td>\n",
       "    </tr>\n",
       "  </tbody>\n",
       "</table>\n",
       "</div>"
      ],
      "text/plain": [
       "     Azs                                            Address  Price92  Price95\n",
       "0  56505  Новосибирская обл., г. Новосибирск, ул. Фабрич...    43.30    46.25\n",
       "1  58520  Ростовская обл., Мясниковский р-н, п. Чалтырь,...    45.44     0.00\n",
       "2  58316  Владимирская обл., Судогодский р-н, д. Лаврово...    43.90    47.20\n",
       "3  58519  Ростовская обл., г. Ростов-на-Дону, ул. 40 Лет...    45.44    49.74\n",
       "4  58509        Калужская обл., г. Калуга, ул. Зерновая, 34    43.20    46.40"
      ]
     },
     "execution_count": 55,
     "metadata": {},
     "output_type": "execute_result"
    }
   ],
   "source": [
    "rn = pd.DataFrame.from_dict(adict)\n",
    "rn.head()"
   ]
  },
  {
   "cell_type": "markdown",
   "metadata": {
    "pycharm": {
     "name": "#%% md\n"
    }
   },
   "source": [
    "# Практическая часть.."
   ]
  },
  {
   "cell_type": "code",
   "execution_count": null,
   "metadata": {
    "pycharm": {
     "name": "#%%\n"
    }
   },
   "outputs": [],
   "source": [
    "# Добавить в таблицу другие виды топлива\n",
    "#----- Ваш код здесь ----"
   ]
  },
  {
   "cell_type": "code",
   "execution_count": null,
   "metadata": {
    "pycharm": {
     "name": "#%%\n"
    }
   },
   "outputs": [],
   "source": [
    "# Отделить регионы от адреса АЗС\n",
    "#----- Ваш код здесь ----"
   ]
  },
  {
   "cell_type": "code",
   "execution_count": null,
   "metadata": {
    "pycharm": {
     "name": "#%%\n"
    }
   },
   "outputs": [],
   "source": [
    "# Выбрать АЗС из Белоруссии и сохранить в rnbelarus\n",
    "#----- Ваш код здесь ----"
   ]
  },
  {
   "cell_type": "code",
   "execution_count": null,
   "metadata": {
    "pycharm": {
     "name": "#%%\n"
    }
   },
   "outputs": [],
   "source": [
    "# Пересчитать цены rnbelarus в рубли\n",
    "#----- Ваш код здесь ----"
   ]
  },
  {
   "cell_type": "code",
   "execution_count": null,
   "metadata": {
    "pycharm": {
     "name": "#%%\n"
    }
   },
   "outputs": [],
   "source": [
    "# Убрать АЗС из Белоруссии из таблциы rn\n",
    "#----- Ваш код здесь ----"
   ]
  },
  {
   "cell_type": "code",
   "execution_count": null,
   "metadata": {
    "pycharm": {
     "name": "#%%\n"
    }
   },
   "outputs": [],
   "source": [
    "# Расчитать средние цены на топливо по регионам\n",
    "#----- Ваш код здесь ----"
   ]
  },
  {
   "cell_type": "code",
   "execution_count": null,
   "metadata": {
    "pycharm": {
     "name": "#%%\n"
    }
   },
   "outputs": [],
   "source": [
    "# Создать директорию regional_prices\n",
    "#----- Ваш код здесь ----"
   ]
  },
  {
   "cell_type": "code",
   "execution_count": null,
   "metadata": {
    "pycharm": {
     "name": "#%%\n"
    }
   },
   "outputs": [],
   "source": [
    "# Записать в отдельный .csv файл цены для каждого региона. \n",
    "# Разделить должен быть знак табуляции sep='\\t'\n",
    "# Название файла записать как название региона, заменив пробел на _\n",
    "#----- Ваш код здесь ----"
   ]
  },
  {
   "cell_type": "code",
   "execution_count": null,
   "metadata": {
    "pycharm": {
     "name": "#%%\n"
    }
   },
   "outputs": [],
   "source": [
    "# Выведите содержимое директории в переменную list_of_files\n",
    "#----- Ваш код здесь ----"
   ]
  },
  {
   "cell_type": "code",
   "execution_count": null,
   "metadata": {
    "pycharm": {
     "name": "#%%\n"
    }
   },
   "outputs": [],
   "source": [
    "# Создайте словарь regional_prices и заполните его таким образом, чтобы\n",
    "# ключ был название файла без .csv, а значения - список строк, счиатанных из файла\n",
    "#----- Ваш код здесь ----"
   ]
  },
  {
   "cell_type": "code",
   "execution_count": null,
   "metadata": {
    "pycharm": {
     "name": "#%%\n"
    }
   },
   "outputs": [],
   "source": [
    "# Соберите таблицу rnnew из словаря regional_prices\n",
    "#----- Ваш код здесь ----"
   ]
  }
 ],
 "metadata": {
  "kernelspec": {
   "display_name": "Python 3",
   "language": "python",
   "name": "python3"
  },
  "language_info": {
   "codemirror_mode": {
    "name": "ipython",
    "version": 3
   },
   "file_extension": ".py",
   "mimetype": "text/x-python",
   "name": "python",
   "nbconvert_exporter": "python",
   "pygments_lexer": "ipython3",
   "version": "3.8.5"
  }
 },
 "nbformat": 4,
 "nbformat_minor": 2
}